{
  "cells": [
    {
      "cell_type": "markdown",
      "metadata": {
        "colab_type": "text",
        "id": "view-in-github"
      },
      "source": [
        "<a href=\"https://colab.research.google.com/github/BugPersonality/ML/blob/main/DubovLab1.ipynb\" target=\"_parent\"><img src=\"https://colab.research.google.com/assets/colab-badge.svg\" alt=\"Open In Colab\"/></a>"
      ]
    },
    {
      "cell_type": "markdown",
      "metadata": {
        "id": "BsNwjQDRfmLY"
      },
      "source": [
        "# Задание 1"
      ]
    },
    {
      "cell_type": "markdown",
      "metadata": {
        "id": "wu6r1-s7fmLe"
      },
      "source": [
        "---"
      ]
    },
    {
      "cell_type": "markdown",
      "metadata": {
        "id": "zxRIdPO9gYyX"
      },
      "source": [
        "Напишите программу, которая будет решать систему линейных уравнений вида:\n",
        "\n",
        "\\begin{matrix} a_{11}x+a_{12}y=b_{1}&(1) \\\\ a_{21}x+a_{22}y=b_{2} &(2) \\end{matrix}\n",
        "​\t\n",
        "На вход программа должна принимать 2 строки.\n",
        "\n",
        "Каждая строка содержит 3 действительных числа через пробел: коэффициенты a и b.\n",
        "\n",
        "На выходе программа должна выдавать значения x и y в одну строку через пробел.\n",
        " \n",
        "\n",
        "Примечание 1. Для разделения строки на отдельные элементы используйте функцию split()\n",
        "\n",
        "Примечание 2. В качестве разделителя между целой и дробной частью используйте точку, например 0.2"
      ]
    },
    {
      "cell_type": "code",
      "execution_count": 33,
      "metadata": {
        "id": "6sxlcLbVlrjl"
      },
      "outputs": [
        {
          "data": {
            "text/plain": "'7.0 -2.0'"
          },
          "execution_count": 33,
          "metadata": {},
          "output_type": "execute_result"
        }
      ],
      "source": [
        "import numpy as np\n",
        "\n",
        "def linan(s1, s2):\n",
        "    line1 = list(map(int, s1.split(\" \")))\n",
        "    line2 = list(map(int, s2.split(\" \")))\n",
        "\n",
        "    leftPart = np.array([ [line1[0], line1[1]], [line2[0], line2[1]] ]) # numpy matrix (left part of a system)\n",
        "    rightPart = np.array([line1[2], line2[2]])                          # numpy vector (right part of a system)\n",
        "\n",
        "    solution = np.linalg.solve(leftPart, rightPart)\n",
        "\n",
        "    return f\"{solution[0]} {solution[1]}\"\n",
        "\n",
        "linan(\"1 2 3\", \"1 3 1\")"
      ]
    },
    {
      "cell_type": "markdown",
      "metadata": {
        "id": "wLoVDMQnfmOv"
      },
      "source": [
        "# Задание 2"
      ]
    },
    {
      "cell_type": "markdown",
      "metadata": {
        "id": "6bmt_YF3fmOw"
      },
      "source": [
        "Напишите функцию `decorate_matrix`, которая получает на вход одно целое число больше единицы. Функция должна возвращать матрицу n на n, у которой на границах стоят единицы, а на всех остальных позициях(если остались позиции не на границах) стоят нули.\n",
        "\n",
        "Нужно сделать без использования  циклов.\n",
        "\n",
        "```\n",
        "# ожидаемый резальтат для аргумента 5\n",
        "array([[1., 1., 1., 1., 1.],\n",
        "[1., 0., 0., 0., 1.],\n",
        "[1., 0., 0., 0., 1.],\n",
        "[1., 0., 0., 0., 1.],\n",
        "[1., 1., 1., 1., 1.]])\n",
        "```\n",
        "\n"
      ]
    },
    {
      "cell_type": "code",
      "execution_count": 108,
      "metadata": {},
      "outputs": [
        {
          "data": {
            "text/plain": "array([[1, 1, 1, 1, 1, 1],\n       [1, 0, 0, 0, 0, 1],\n       [1, 0, 0, 0, 0, 1],\n       [1, 0, 0, 0, 0, 1],\n       [1, 0, 0, 0, 0, 1],\n       [1, 1, 1, 1, 1, 1]])"
          },
          "execution_count": 108,
          "metadata": {},
          "output_type": "execute_result"
        }
      ],
      "source": [
        "def decorate_matrix(n):\n",
        "    matrix = np.zeros((n, n), dtype=np.int64)\n",
        "    matrix[:, 0] =  1       # left\n",
        "    matrix[:, n - 1] = 1    # right\n",
        "    matrix[0, :] =  1       # top\n",
        "    matrix[n - 1, :] = 1    # bottom\n",
        "    return matrix\n",
        "\n",
        "decorate_matrix(6)"
      ]
    },
    {
      "cell_type": "markdown",
      "metadata": {
        "id": "75sxny1zSCbl"
      },
      "source": [
        "# Задание 3"
      ]
    },
    {
      "cell_type": "markdown",
      "metadata": {
        "id": "2Xq1tBBAS5UJ"
      },
      "source": [
        "1) реализуйте 2 функции:\n",
        "\n",
        "$f(x) = (x+a)^2 - b$ \n",
        "\n",
        "$g(x) = |f(x)|$\n",
        "\n",
        "2) Найдите аргументы, при которых достигается минимум функций $f(x)$ и $g(x)$\n",
        "\n",
        "Пример. \n",
        "Входные значение: $a=3$ и $b=4$\n",
        "\n",
        "Выходные значения:\n",
        "\n",
        "`-3.0 -1.0`"
      ]
    },
    {
      "cell_type": "code",
      "execution_count": 120,
      "metadata": {},
      "outputs": [
        {
          "name": "stdout",
          "output_type": "stream",
          "text": [
            "scipy.optimize.minimize f(x)  | min = -2.9999999840660854\n",
            "scipy.optimize.minimize f(g)  | min = -1.000000007128943\n",
            "goldenSlice mtehod      f(x)  | min = -2.9986552145750194\n",
            "goldenSlice mtehod      g(x)  | min = -0.9999487333718523\n"
          ]
        }
      ],
      "source": [
        "from scipy.optimize import minimize\n",
        "\n",
        "def f(x, a = 3, b = 4):\n",
        "    return pow(x + a, 2) - b\n",
        "\n",
        "def g(x):\n",
        "    return abs(f(x))\n",
        "\n",
        "def findMinimum(func):                  # find minimum by using scipy.optimize.minimize\n",
        "    return minimize(func, x0=0)\n",
        "\n",
        "def goldenSlice(func, a, b, eps=0.01):  # find minimum by using Golden section search\n",
        "    def getOracul(callOracul, func):\n",
        "        callOracul[0] += 1\n",
        "        return func\n",
        "\n",
        "    iterations = 1\n",
        "    callOracul = [0]\n",
        "\n",
        "    t1 = 0.381966\n",
        "    t2 = 1 - t1\n",
        "\n",
        "    x1 = a + (b - a) * t1\n",
        "    x2 = a + (b - a) * t2\n",
        "\n",
        "    f1 = getOracul(callOracul, func)(x1 - eps)\n",
        "    f2 = getOracul(callOracul, func)(x2 + eps)\n",
        "\n",
        "    while abs(b - a) > eps:\n",
        "\n",
        "        if (f1 < f2):\n",
        "            b = x2\n",
        "            x2 = x1\n",
        "            f2 = f1\n",
        "            x1 = a + (b - a) * t1\n",
        "            f1 = getOracul(callOracul, func)(x1)\n",
        "        else:\n",
        "            a = x1\n",
        "            x1 = x2\n",
        "            f1 = f2\n",
        "            x2 = a + (b - a) * t2\n",
        "            f2 = getOracul(callOracul, func)(x2)\n",
        "\n",
        "        iterations += 1 \n",
        "      \n",
        "    answ = (a + b) / 2\n",
        "\n",
        "    return ((answ, func(answ)), iterations, callOracul)\n",
        "\n",
        "print(f\"scipy.optimize.minimize f(x)  | min = {findMinimum(f).x[0]}\")\n",
        "print(f\"scipy.optimize.minimize f(g)  | min = {findMinimum(g).x[0]}\")\n",
        "\n",
        "print(f\"goldenSlice mtehod      f(x)  | min = {goldenSlice(f, -100, 100)[0][0]}\")\n",
        "print(f\"goldenSlice mtehod      g(x)  | min = {goldenSlice(g, -100, 100)[0][0]}\")"
      ]
    },
    {
      "cell_type": "markdown",
      "metadata": {
        "id": "efml9GzISC9Q"
      },
      "source": [
        "# Задание 4"
      ]
    },
    {
      "cell_type": "markdown",
      "metadata": {
        "id": "SDZvKcsTVbAW"
      },
      "source": [
        "Постройте графики для функций из предыдущего задания и отметьте другим цветом на графиках точки найденных минимумов."
      ]
    },
    {
      "cell_type": "code",
      "execution_count": 123,
      "metadata": {},
      "outputs": [
        {
          "data": {
            "image/png": "[encoded data removed]",
            "text/plain": "<Figure size 432x288 with 1 Axes>"
          },
          "metadata": {
            "needs_background": "light"
          },
          "output_type": "display_data"
        }
      ],
      "source": [
        "import matplotlib.pyplot as plt\n",
        "\n",
        "def plot_function():\n",
        "    x = range(-10, 6)\n",
        "    y = list(map(f, x))\n",
        "    y1 = list(map(g, x))\n",
        "        \n",
        "    fig, ax = plt.subplots()\n",
        "\n",
        "    ax.plot(x, y, \"r\", label=\"f(x)\")\n",
        "    ax.plot(x, y1, \"g--\", label=\"g(x)\")\n",
        "    ax.legend()\n",
        "\n",
        "    fMin = goldenSlice(f, -100, 100)[0]\n",
        "    gMin = goldenSlice(g, -100, 100)[0]\n",
        "\n",
        "    ax.scatter(fMin[0], fMin[1], s=100)\n",
        "    ax.scatter(gMin[0], gMin[1], s=100)\n",
        "    \n",
        "    plt.show()\n",
        "    \n",
        "plot_function()"
      ]
    },
    {
      "cell_type": "markdown",
      "metadata": {
        "id": "mrby3EfiSDKJ"
      },
      "source": [
        "# Задание 5"
      ]
    },
    {
      "cell_type": "markdown",
      "metadata": {
        "id": "J6AZ8785VkQd"
      },
      "source": [
        "1000 человек бросают монетку. Каждый бросил 10 раз подряд.\n",
        "\n",
        " 1. Какова вероятность того, что хотя бы у одного человека монетка выпала 10 раз подряд той же самой стороной (орлом или решкой)? \n",
        " 2. Какова вероятность того, что хотя бы у одного человека монетка выпала 8 раз подряд той же самой стороной (орлом или решкой)? \n",
        " 3. Какова вероятность того, что ровно у троих человек из 1000 монетка выпала 10 раз подряд той же самой стороной (орлом или решкой)?"
      ]
    },
    {
      "cell_type": "code",
      "execution_count": 145,
      "metadata": {},
      "outputs": [
        {
          "name": "stdout",
          "output_type": "stream",
          "text": [
            "probability of 10 times on one side: 0.8581698409126575\n",
            "probability of 8 times on one side: 0.9995953548306737\n",
            "3 man toss coin 10 on times one side: 0.17611950522579567\n"
          ]
        }
      ],
      "source": [
        "import math\n",
        "\n",
        "def poisson(lambda_, k):\n",
        "    return (pow(lambda_, k) / math.factorial(k)) * math.exp(-lambda_)\n",
        "\n",
        "def printProbabilitys():\n",
        "    firstProbability =  1 - poisson(1000 * pow(1/2, 9), 0)\n",
        "    secondProbability = 1 - poisson(1000 * pow(1/2, 7), 0)\n",
        "    thirdProbability = poisson(pow(1/2, 9) * 1000, 3)  \n",
        "    \n",
        "    print(f\"probability of 10 times on one side: {firstProbability}\")\n",
        "    print(f\"probability of 8 times on one side: {secondProbability}\")\n",
        "    print(f\"3 man toss coin 10 on times one side: {thirdProbability}\")\n",
        "\n",
        "printProbabilitys()\n"
      ]
    }
  ],
  "metadata": {
    "colab": {
      "collapsed_sections": [
        "MFKSC2UUA7Ne",
        "Mth2u7nzAiqw",
        "JrEY8hzdfmM2",
        "mrm41pzufmNy",
        "2kJObRBHfmOd",
        "ylh_09YIfmOg",
        "QeBH-jT4fmOy"
      ],
      "include_colab_link": true,
      "name": "lab1.ipynb",
      "provenance": [],
      "toc_visible": true
    },
    "kernelspec": {
      "display_name": "Python 3.9.5 64-bit",
      "metadata": {
        "interpreter": {
          "hash": "aee8b7b246df8f9039afb4144a1f6fd8d2ca17a180786b69acc140d282b71a49"
        }
      },
      "name": "python3"
    },
    "language_info": {
      "codemirror_mode": {
        "name": "ipython",
        "version": 3
      },
      "file_extension": ".py",
      "mimetype": "text/x-python",
      "name": "python",
      "nbconvert_exporter": "python",
      "pygments_lexer": "ipython3",
      "version": "3.9.5"
    }
  },
  "nbformat": 4,
  "nbformat_minor": 0
}
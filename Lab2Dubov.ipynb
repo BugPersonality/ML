{
  "cells": [
    {
      "cell_type": "markdown",
      "metadata": {
        "colab_type": "text",
        "id": "view-in-github"
      },
      "source": [
        "<a href=\"https://colab.research.google.com/github/BugPersonality/ML/blob/main/lab2.ipynb\" target=\"_parent\"><img src=\"https://colab.research.google.com/assets/colab-badge.svg\" alt=\"Open In Colab\"/></a>"
      ]
    },
    {
      "cell_type": "code",
      "execution_count": 107,
      "metadata": {
        "ExecuteTime": {
          "end_time": "2020-04-23T10:16:05.965275Z",
          "start_time": "2020-04-23T10:16:05.312704Z"
        },
        "id": "bZ7J0si68JdT"
      },
      "outputs": [],
      "source": [
        "import pandas as pd\n",
        "import numpy as np"
      ]
    },
    {
      "cell_type": "markdown",
      "metadata": {
        "id": "xjvL0IIG8Jd0"
      },
      "source": [
        "## Задание 0\n"
      ]
    },
    {
      "cell_type": "markdown",
      "metadata": {
        "id": "yaSxXHvxO0qo"
      },
      "source": [
        "Для всех  заданий будем использовать обезличенные транзакционные банковские данные. Для этого считайте в переменные **tr_mcc_codes, tr_types, transactions и gender_train** из одноимённых таблиц из папки [data](https://drive.google.com/drive/folders/1YAMe7MiTxA-RSSd8Ex2p-L0Dspe6Gs4L). \n",
        "\n",
        "Для таблицы transactions используйте только первые n=1000000 строк. При чтении файлов обратите внимание на разделители внутри каждого из файлов - они могут различаться!"
      ]
    },
    {
      "cell_type": "markdown",
      "metadata": {
        "id": "oP3lX9xC8Jd8"
      },
      "source": [
        "###  Описание данных\n",
        "#### Таблица ```transactions.csv```\n",
        "##### Описание\n",
        "Таблица содержит историю транзакций клиентов банка за один год и три месяца.\n",
        "\n",
        "##### Формат данных\n",
        "\n",
        "```\n",
        "customer_id,tr_datetime,mcc_code,tr_type,amount,term_id\n",
        "111111,15 01:40:52,1111,1000,-5224,111111\n",
        "111112,15 15:18:32,3333,2000,-100,11122233\n",
        "...\n",
        "```\n",
        "##### Описание полей\n",
        "\n",
        " - ```customer_id``` — идентификатор клиента;\n",
        " - ```tr_datetime``` — день и время совершения транзакции (дни нумеруются с начала данных);\n",
        " - ```mcc_code``` — mcc-код транзакции;\n",
        " - ```tr_type``` — тип транзакции;\n",
        " - ```amount``` — сумма транзакции в условных единицах со знаком; ```+``` — начисление средств клиенту (приходная транзакция), ```-``` — списание средств (расходная транзакция);\n",
        " - ```term_id``` — идентификатор терминала;\n",
        "\n",
        "\n",
        "#### Таблица ```gender_train.csv```\n",
        "\n",
        "##### Описание\n",
        "Данная таблица содержит информацию по полу для части клиентов, для которых он известен. Для остальных клиентов пол неизвестен.\n",
        "\n",
        "##### Формат данных\n",
        "```\n",
        "customer_id,gender\n",
        "111111,0\n",
        "111112,1\n",
        "...\n",
        "```\n",
        "\n",
        "##### Описание полей\n",
        " - ```customer_id``` — идентификатор клиента;\n",
        " - ```gender``` — пол клиента;\n",
        "\n",
        "### Таблица ```tr_mcc_codes.csv```\n",
        "\n",
        "##### Описание\n",
        "Данная таблица содержит описание mcc-кодов транзакций.\n",
        "\n",
        "##### Формат данных\n",
        "```\n",
        "mcc_code;mcc_description\n",
        "1000;словесное описание mcc-кода 1000\n",
        "2000;словесное описание mcc-кода 2000\n",
        "...\n",
        "```\n",
        "\n",
        "##### Описание полей\n",
        " - ```mcc_code``` – mcc-код транзакции;\n",
        " - ```mcc_description``` — описание mcc-кода транзакции.\n",
        "\n",
        "#### Таблица ```tr_types.csv```\n",
        "\n",
        "##### Описание\n",
        "Данная таблица содержит описание типов транзакций.\n",
        "\n",
        "##### Формат данных\n",
        "```\n",
        "tr_type;tr_description\n",
        "1000;словесное описание типа транзакции 1000\n",
        "2000;словесное описание типа транзакции 2000\n",
        "...\n",
        "```\n",
        "\n",
        "##### Описание полей\n",
        " - ```tr_type``` – тип транзакции;\n",
        " - ```tr_description``` — описание типа транзакции;"
      ]
    },
    {
      "cell_type": "markdown",
      "metadata": {
        "id": "04CYsBKz8JeB"
      },
      "source": [
        "## Задание 1\n",
        "\n"
      ]
    },
    {
      "cell_type": "markdown",
      "metadata": {
        "id": "1hcrfwsYN_Yz"
      },
      "source": [
        "1. Для столбца tr_type датафрейма transactions выберите произвольные 1000 строк с помощью метода sample\n",
        "2. В полученной на предыдущем этапе подвыборке найдите долю транзакций (стобец tr_description в датасете tr_types), в которой содержится подстрока 'POS' или 'ATM'\n",
        "\n",
        "Без использования merge!"
      ]
    },
    {
      "cell_type": "code",
      "execution_count": 108,
      "metadata": {},
      "outputs": [],
      "source": [
        "trTypes = pd.read_csv(filepath_or_buffer = \".vscode/csv/tr_types.csv\", sep = ';')\n",
        "trMccCode = pd.read_csv(filepath_or_buffer = \".vscode/csv/tr_mcc_codes.csv\", sep = ';')\n",
        "genderTrain = pd.read_csv(filepath_or_buffer = \".vscode/csv/gender_train.csv\", sep = ',')\n",
        "transactions = pd.read_csv(filepath_or_buffer = \".vscode/csv/transactions.csv\", sep = ',').head(1000000)"
      ]
    },
    {
      "cell_type": "code",
      "execution_count": 111,
      "metadata": {},
      "outputs": [
        {
          "name": "stdout",
          "output_type": "stream",
          "text": [
            "0.624\n"
          ]
        }
      ],
      "source": [
        "def isContainsATM(string):\n",
        "    return string.str.contains(\"АТМ\").bool()\n",
        "\n",
        "def isContainsPOS(string):\n",
        "    return string.str.contains(\"POS\").bool()\n",
        "\n",
        "sample = transactions[\"tr_type\"].sample(n = 1000)\n",
        "count = 0\n",
        "\n",
        "for i in sample: \n",
        "    description = trTypes.query(f'tr_type == {i}')['tr_description']\n",
        "    if isContainsATM(description) or isContainsPOS(description):\n",
        "        count += 1\n",
        "\n",
        "print(count/1000)"
      ]
    },
    {
      "cell_type": "markdown",
      "metadata": {
        "id": "fiZBDIZt8JeS"
      },
      "source": [
        "## Задание 2 \n"
      ]
    },
    {
      "cell_type": "markdown",
      "metadata": {
        "id": "FFKeBUThOCrz"
      },
      "source": [
        "1. Для столбца tr_type датафрейма transactions посчитайте частоту встречаемости всех типов транзакций tr_type в transactions.\n",
        "2. Выведите топ-10 транзакций по частоте встречаемости (вывести для них tr_description тоже)."
      ]
    },
    {
      "cell_type": "code",
      "execution_count": 113,
      "metadata": {},
      "outputs": [
        {
          "name": "stdout",
          "output_type": "stream",
          "text": [
            "231117 1010 Покупка. POS ТУ СБ РФ\n",
            "151166 2010 Выдача наличных в АТМ Сбербанк России\n",
            "149006 7070 Перевод на карту (с карты) через Мобильный банк...\n",
            "137658 1110 Покупка. POS ТУ Россия\n",
            "118975 1030 Оплата услуги. Банкоматы СБ РФ\n",
            "49830 2370 Списание с карты на карту по операции <перевода...\n",
            "28972 7010 Взнос наличных через АТМ (в своем тер.банке)\n",
            "26078 7030 Перевод на карту (с карты) через АТМ (в предела...\n",
            "15781 7071 Перевод на карту (с карты) через Мобильный банк...\n",
            "15476 1100 Покупка. ТУ  Россия\n"
          ]
        }
      ],
      "source": [
        "allTypes = transactions.groupby('tr_type').size()\n",
        "topTenTypes = pd.DataFrame(allTypes.sort_values(ascending=False).head(10).reset_index(name = 'freq'))\n",
        "\n",
        "for index, row in topTenTypes.iterrows():\n",
        "    trTypeInRow = row['tr_type']\n",
        "    descriptionInTrTypeDF = trTypes.query(f'tr_type == {trTypeInRow}')['tr_description'].to_string(index = False)\n",
        "    print(row['freq'], end=\" \")\n",
        "    print(row['tr_type'], end=\" \")\n",
        "    print(descriptionInTrTypeDF)"
      ]
    },
    {
      "cell_type": "markdown",
      "metadata": {
        "id": "mktm_JeA8JeX"
      },
      "source": [
        "## Задание 3\n",
        "1. В датафрейме transactions найдите клиента с максимальной суммой приходов на карту\n",
        "2. В датафрейме transactions найдите клиента с максимальной суммой расходов по карте\n",
        "3. Найдите модуль разницы для этих клиентов между суммой расходов и суммой приходов"
      ]
    },
    {
      "cell_type": "code",
      "execution_count": 114,
      "metadata": {},
      "outputs": [
        {
          "name": "stdout",
          "output_type": "stream",
          "text": [
            "id: 70780820, amount: 1248114886.81\n",
            "id: 70780820, amount: -1249952204.79\n",
            "diff: 2498067091.6\n"
          ]
        }
      ],
      "source": [
        "positiveAmount = transactions.query('amount > 0').groupby(['customer_id'])['amount']\n",
        "negativeAmount = transactions.query('amount < 0').groupby(['customer_id'])['amount']\n",
        "\n",
        "customerWithMaxAmount = positiveAmount.sum().sort_values(ascending=False).head(1).reset_index(name = 'amount')\n",
        "customerWithMinAmount = negativeAmount.sum().sort_values(ascending=True).head(1).reset_index(name = 'amount')\n",
        "\n",
        "print(f\"id: {customerWithMaxAmount['customer_id'][0]}, amount: {customerWithMaxAmount['amount'][0]}\")\n",
        "print(f\"id: {customerWithMinAmount['customer_id'][0]}, amount: {customerWithMinAmount['amount'][0]}\")\n",
        "print(f\"diff: {abs(customerWithMaxAmount['amount'][0] - customerWithMinAmount['amount'][0])}\")"
      ]
    },
    {
      "cell_type": "markdown",
      "metadata": {
        "id": "BYrJ5b_E8Jee"
      },
      "source": [
        "## Задание 4\n",
        "1. Найдите среднее арифметическое и медиану по amount по всем типам транзакций из топ 10 из задания 2\n",
        "1. Найдите среднее арифметическое и медиану по amount по всем типам транзакций для клиентов из задания 3"
      ]
    },
    {
      "cell_type": "code",
      "execution_count": 115,
      "metadata": {},
      "outputs": [
        {
          "name": "stdout",
          "output_type": "stream",
          "text": [
            "type: 1010, mean: -19784.748639650046, median: -7411.52\n",
            "type: 2010, mean: -136077.62932504667, median: -44918.32\n",
            "type: 7070, mean: 65569.83170020001, median: 11319.42\n",
            "type: 1110, mean: -32119.330370773943, median: -11207.57\n",
            "type: 1030, mean: -5320.980221811305, median: -2245.92\n",
            "type: 2370, mean: -205418.24903170782, median: -44918.32\n",
            "type: 7010, mean: 276391.7895961618, median: 112295.79\n",
            "type: 7030, mean: 86104.33290896541, median: 13951.52\n",
            "type: 7071, mean: 66806.82662252075, median: 3593.47\n",
            "type: 1100, mean: -44061.8272615663, median: -10188.259999999998\n",
            "customer_id: 70780820, mean: -20.694945765423416, median: 8803.99\n"
          ]
        }
      ],
      "source": [
        "for i in topTenTypes['tr_type']:\n",
        "    firstMean = transactions.query(f'tr_type == {i}')['amount'].mean()\n",
        "    firstMedian1 = transactions.query(f'tr_type == {i}')['amount'].median()\n",
        "    print(f\"type: {i}, mean: {firstMean}, median: {firstMedian1}\")\n",
        "\n",
        "customerIndex = customerWithMinAmount['customer_id'][0]\n",
        "secondMean = transactions.query(f'customer_id == {customerIndex}')['amount'].mean()\n",
        "secondMedian = transactions.query(f'customer_id == {customerIndex}')['amount'].median()\n",
        "\n",
        "print(f\"customer_id: {customerIndex}, mean: {secondMean}, median: {secondMedian}\")"
      ]
    },
    {
      "cell_type": "markdown",
      "metadata": {
        "id": "BYXwM4l3QDBu"
      },
      "source": [
        "## Подготовка для заданий 5-8"
      ]
    },
    {
      "cell_type": "markdown",
      "metadata": {
        "id": "XWQzFeKcQHRe"
      },
      "source": [
        "*Из заданий 5-8 нужно выполнить минимум два любых*\n",
        "\n",
        "Соедините transactions с всеми остальными таблицами (tr_mcc_codes, tr_types, gender_train). Причём с gender_train необходимо смёрджиться с помощью left join, а с оставшимися датафреймами - через inner.\n",
        "После получения результата таблицы gender_train, tr_types, tr_mcc_codes можно удалить. В результате соединения датафреймов должно получиться 999584 строки."
      ]
    },
    {
      "cell_type": "code",
      "execution_count": 117,
      "metadata": {
        "id": "sndJxjJ7QQf5"
      },
      "outputs": [
        {
          "name": "stdout",
          "output_type": "stream",
          "text": [
            "(999584, 9)\n"
          ]
        }
      ],
      "source": [
        "transactions = pd.merge(transactions, genderTrain, how='left')\n",
        "transactions = pd.merge(transactions, trMccCode, how='inner')\n",
        "transactions = pd.merge(transactions, trTypes, how='inner')\n",
        "\n",
        "print(transactions.shape)"
      ]
    },
    {
      "cell_type": "markdown",
      "metadata": {
        "id": "8vrFauJ8QgmT"
      },
      "source": [
        "## Задание 5"
      ]
    },
    {
      "cell_type": "markdown",
      "metadata": {
        "id": "rOjEQ5xyQfE_"
      },
      "source": [
        "1. Определите модуль разницы между средними тратами женщин и мужчин (трата - отрицательное значение amount).\n",
        "2. Определите модуль разницы между средними поступлениями у мужчин и женщин\n",
        "\n",
        "Обратите внимание, что для вычисления модуля разности точных знаний о том, \n",
        "какой класc относится к мужчинам, а какой - к женщинам, не требуется."
      ]
    },
    {
      "cell_type": "code",
      "execution_count": 118,
      "metadata": {},
      "outputs": [
        {
          "name": "stdout",
          "output_type": "stream",
          "text": [
            "Spent diff: 32718.054920224655\n",
            "Income diff: 63366.57104801461\n"
          ]
        }
      ],
      "source": [
        "zeroSpentMean= transactions.query('gender == 0.0').query('amount < 0')['amount'].mean()\n",
        "oneSpentMean = transactions.query('gender == 1.0').query('amount < 0')['amount'].mean()\n",
        "\n",
        "print(f\"Spent diff: {abs(zeroSpentMean - oneSpentMean)}\")\n",
        "\n",
        "zeroIncomeMean = transactions.query('gender == 0.0').query('amount > 0')['amount'].mean()\n",
        "oneIncomeMean = transactions.query('gender == 1.0').query('amount > 0')['amount'].mean()\n",
        "\n",
        "print(f\"Income diff: {abs(zeroIncomeMean - oneIncomeMean)}\")"
      ]
    },
    {
      "cell_type": "markdown",
      "metadata": {
        "id": "DSHFLbepQ7G1"
      },
      "source": [
        "## Задание 6"
      ]
    },
    {
      "cell_type": "markdown",
      "metadata": {
        "id": "2EF1490bQ-17"
      },
      "source": [
        "1. По всем типам транзакций рассчитайте максимальную сумму прихода на карту (из строго положительных сумм по столбцу amount) отдельно для мужчин и женщин (назовите ее \"max_income\"). Оставьте по 10 типов транзакций для мужчин и для женщин, наименьших среди всех типов транзакций по полученным значениям \"max_income\". \n",
        "2. Выделите среди них те типы транзакций, которые встречаются одновременно и у мужчин, и у женщин"
      ]
    },
    {
      "cell_type": "code",
      "execution_count": 119,
      "metadata": {},
      "outputs": [
        {
          "name": "stdout",
          "output_type": "stream",
          "text": [
            "type 0: \n",
            "    tr_type    amount\n",
            "28     2210  68315.82\n",
            "29     2010  44918.32\n",
            "30     1010  24839.83\n",
            "31     2110  22459.16\n",
            "32     7075   6737.75\n",
            "33     4100   5041.86\n",
            "34     2370   2335.75\n",
            "35     4210   2245.92\n",
            "36     4110   2245.92\n",
            "37     4051   1122.96\n",
            "type 1: \n",
            "    tr_type     amount\n",
            "24     7015  121279.45\n",
            "25     2370  113194.15\n",
            "26     2110  112295.79\n",
            "27     2010   89836.63\n",
            "28     7041   87590.72\n",
            "29     6000   79280.83\n",
            "30     8100   64682.37\n",
            "31     1010   28803.87\n",
            "32     4110    2245.92\n",
            "33     2020    2245.92\n",
            "common tr_types for 1 and 0: \n",
            "    tr_type   amount_x  amount_y\n",
            "0     2370  113194.15   2335.75\n",
            "1     2110  112295.79  22459.16\n",
            "2     2010   89836.63  44918.32\n",
            "3     1010   28803.87  24839.83\n",
            "4     4110    2245.92   2245.92\n"
          ]
        }
      ],
      "source": [
        "maxIncomesForZero = transactions.query('gender == 0.0').query('amount > 0').groupby('tr_type')['amount'].max().sort_values(ascending=False).reset_index(name = 'amount')\n",
        "lessTenMaxIncomesForZero = maxIncomesForZero.tail(10)\n",
        "\n",
        "maxIncomesForOne = transactions.query('gender == 1.0').query('amount > 0').groupby('tr_type')['amount'].max().sort_values(ascending=False).reset_index(name = 'amount')\n",
        "lessTenMaxIncomesForOne = maxIncomesForOne.tail(10)\n",
        "\n",
        "commonTrTypes = pd.merge(lessTenMaxIncomesForOne, lessTenMaxIncomesForZero, on = 'tr_type', how='inner')\n",
        "\n",
        "print(f\"type 0: \\n{lessTenMaxIncomesForZero}\")\n",
        "print(f\"type 1: \\n{lessTenMaxIncomesForOne}\")\n",
        "print(f\"common tr_types for 1 and 0: \\n {commonTrTypes}\")"
      ]
    },
    {
      "cell_type": "markdown",
      "metadata": {
        "id": "W-LaVwRdR3UB"
      },
      "source": [
        "## Задание 7"
      ]
    },
    {
      "cell_type": "markdown",
      "metadata": {
        "id": "rhI4NOciR7e0"
      },
      "source": [
        "1. Найдите суммы затрат по каждой категории (mcc) для мужчин и для женщин. \n",
        "2. Найдите топ 5 категорий с самыми большими относительными модулями разности в тратах для разных полов (в ответе должны присутствовать описания mcc кодов)."
      ]
    },
    {
      "cell_type": "code",
      "execution_count": 120,
      "metadata": {},
      "outputs": [
        {
          "name": "stdout",
          "output_type": "stream",
          "text": [
            "   mcc_code    amount\n",
            "0      7372  -4886.89\n",
            "1      5193 -10151.54\n",
            "2      7395 -10263.83\n",
            "3      5072 -11386.79\n",
            "4      5192 -12195.33\n",
            "   mcc_code   amount1\n",
            "0      9402  -4581.67\n",
            "1      8398  -5688.88\n",
            "2      7829 -13430.58\n",
            "3      5967 -19315.33\n",
            "4      7375 -30236.77\n",
            "     mcc_code        amount       amount1          diff  \\\n",
            "167      6011 -4.958077e+09 -8.043939e+09  3.085862e+09   \n",
            "166      4829 -3.513864e+09 -6.013017e+09  2.499153e+09   \n",
            "164      6010 -2.612731e+08 -4.821311e+08  2.208580e+08   \n",
            "148      5541 -5.162489e+07 -2.070574e+08  1.554326e+08   \n",
            "102      5511 -5.095159e+06 -7.862393e+07  7.352877e+07   \n",
            "\n",
            "                                       mcc_description  \n",
            "167  Финансовые институты — снятие наличности автом...  \n",
            "166                                  Денежные переводы  \n",
            "164   Финансовые институты — снятие наличности вручную  \n",
            "148                            Станции техобслуживания  \n",
            "102  Легковой и грузовой транспорт — продажа, серви...  \n"
          ]
        }
      ],
      "source": [
        "zeroSpentByMccCode = transactions.query('gender == 0.0').query('amount < 0').groupby('mcc_code')['amount'].sum().sort_values(ascending=False)\n",
        "oneSpentByMccCode = transactions.query('gender == 1.0').query('amount < 0').groupby('mcc_code')['amount'].sum().sort_values(ascending=False)\n",
        "\n",
        "zeroSpentByMccCode = zeroSpentByMccCode.head(len(zeroSpentByMccCode)).reset_index(name = 'amount')\n",
        "oneSpentByMccCode = oneSpentByMccCode.head(len(oneSpentByMccCode)).reset_index(name = 'amount1')\n",
        "\n",
        "print(zeroSpentByMccCode.head())\n",
        "print(oneSpentByMccCode.head())\n",
        "\n",
        "merged = pd.merge(zeroSpentByMccCode, oneSpentByMccCode, on = 'mcc_code', how = 'inner')\n",
        "merged['diff'] = (abs(merged['amount'] - merged['amount1']))\n",
        "merged = merged.sort_values(by = ['diff'], ascending=False).head()\n",
        "\n",
        "description = []\n",
        "for code in merged.mcc_code.values:\n",
        "    description.append(transactions.query(f'mcc_code == {code}')['mcc_description'].values[0])   \n",
        "    \n",
        "merged['mcc_description'] = description\n",
        "\n",
        "print(merged)"
      ]
    },
    {
      "cell_type": "markdown",
      "metadata": {
        "id": "aGaPkQkVSvl8"
      },
      "source": [
        "## Задание 8"
      ]
    },
    {
      "cell_type": "markdown",
      "metadata": {
        "id": "T7Ox1qAXTHQl"
      },
      "source": [
        "1. Из поля tr_datetime выделите час tr_hour, в который произошла транзакция, как первые 2 цифры до \":\". (\\**)\n",
        "2. Посчитайте количество транзакций с amount<0 в ночное время для мужчин и женщин. Ночное время - это примерно 00-06 часов. "
      ]
    },
    {
      "cell_type": "code",
      "execution_count": 121,
      "metadata": {},
      "outputs": [],
      "source": [
        "transactions[['index', 'hour']] = transactions['tr_datetime'].str.split(\" \", expand = True)\n",
        "transactions['hour'] = transactions['hour'].str.slice(0, 2)"
      ]
    },
    {
      "cell_type": "code",
      "execution_count": 122,
      "metadata": {},
      "outputs": [
        {
          "name": "stdout",
          "output_type": "stream",
          "text": [
            "gender: 1, count: 43017\n",
            "  hour  count\n",
            "0   00  35697\n",
            "1   01    984\n",
            "2   02    921\n",
            "3   03   1191\n",
            "4   04   1615\n",
            "5   05   2609\n",
            "gender: 0, count: 38827\n",
            "  hour  count\n",
            "0   00  29060\n",
            "1   01    917\n",
            "2   02   1289\n",
            "3   03   1893\n",
            "4   04   2252\n",
            "5   05   3416\n"
          ]
        }
      ],
      "source": [
        "one = transactions.query('amount < 0').query('gender == 1.0').groupby('hour').size().reset_index(name = 'count').head(6)\n",
        "zero = transactions.query('amount < 0').query('gender == 0.0').groupby('hour').size().reset_index(name = 'count').head(6)\n",
        "\n",
        "print(f\"gender: 1, count: {one['count'].sum()}\")\n",
        "print(one )\n",
        "print(f\"gender: 0, count: {zero['count'].sum()}\")\n",
        "print(zero)\n"
      ]
    }
  ],
  "metadata": {
    "colab": {
      "include_colab_link": true,
      "name": "lab2.ipynb",
      "provenance": [],
      "toc_visible": true
    },
    "hide_input": false,
    "kernelspec": {
      "display_name": "Python 3.9.5 64-bit",
      "metadata": {
        "interpreter": {
          "hash": "aee8b7b246df8f9039afb4144a1f6fd8d2ca17a180786b69acc140d282b71a49"
        }
      },
      "name": "python3"
    },
    "language_info": {
      "codemirror_mode": {
        "name": "ipython",
        "version": 3
      },
      "file_extension": ".py",
      "mimetype": "text/x-python",
      "name": "python",
      "nbconvert_exporter": "python",
      "pygments_lexer": "ipython3",
      "version": "3.9.5"
    },
    "toc": {
      "base_numbering": 1,
      "nav_menu": {},
      "number_sections": true,
      "sideBar": true,
      "skip_h1_title": false,
      "title_cell": "Table of Contents",
      "title_sidebar": "Contents",
      "toc_cell": true,
      "toc_position": {},
      "toc_section_display": true,
      "toc_window_display": false
    },
    "varInspector": {
      "cols": {
        "lenName": 16,
        "lenType": 16,
        "lenVar": 40
      },
      "kernels_config": {
        "python": {
          "delete_cmd_postfix": "",
          "delete_cmd_prefix": "del ",
          "library": "var_list.py",
          "varRefreshCmd": "print(var_dic_list())"
        },
        "r": {
          "delete_cmd_postfix": ") ",
          "delete_cmd_prefix": "rm(",
          "library": "var_list.r",
          "varRefreshCmd": "cat(var_dic_list()) "
        }
      },
      "types_to_exclude": [
        "module",
        "function",
        "builtin_function_or_method",
        "instance",
        "_Feature"
      ],
      "window_display": false
    }
  },
  "nbformat": 4,
  "nbformat_minor": 0
}
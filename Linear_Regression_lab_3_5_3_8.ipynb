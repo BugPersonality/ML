{
  "cells": [
    {
      "cell_type": "markdown",
      "metadata": {
        "colab_type": "text",
        "id": "view-in-github"
      },
      "source": [
        "<a href=\"https://colab.research.google.com/github/BugPersonality/ML/blob/main/Linear_Regression_lab_3_5_3_8.ipynb\" target=\"_parent\"><img src=\"https://colab.research.google.com/assets/colab-badge.svg\" alt=\"Open In Colab\"/></a>"
      ]
    },
    {
      "cell_type": "markdown",
      "metadata": {
        "id": "-7WO78Auf0qu"
      },
      "source": [
        "Это вторая часть задания.\n",
        "\n",
        "Первая часть задания (задания 3.1-3.4) находится в [ноутбуке про линейную регрессию](https://colab.research.google.com/drive/1eX21oBHRAzNr3PimxhMJENF3yeBC2DBe?usp=sharing)."
      ]
    },
    {
      "cell_type": "markdown",
      "metadata": {
        "id": "LYKqDli0Lqas"
      },
      "source": [
        "# Предсказание цен на недвижимость\n",
        "\n",
        "Компании по продаже недвижимости оценивают её стоимость, используя методы машинного обучения. \n",
        "Задача оценки цены на недвижимость также может быть нужна для выявления наиболее выгодных предложений, или, например, для выявления аномально низких цен на объект недвижимости."
      ]
    },
    {
      "cell_type": "markdown",
      "metadata": {
        "id": "FB3xfscxLqat"
      },
      "source": [
        "**Постановка задачи анализа данных** \n",
        "\n",
        "Целью данной задачи является прогнозирование стоимости домов в округе Кинг (штат Вашингтон, США) с помощью построения регрессионных моделей и их анализа. Набор данных состоит из цен на дома в округе Кинг, проданных в период с мая 2014 года по май 2015 года. Данные опубликованы в открытом доступе на платформе Kaggle. "
      ]
    },
    {
      "cell_type": "markdown",
      "metadata": {
        "id": "rvJWkambLqau"
      },
      "source": [
        "Данные с сайта renthub.com по стоимости квартир для аренды:"
      ]
    },
    {
      "cell_type": "markdown",
      "metadata": {
        "id": "_vD1NqACLqav"
      },
      "source": [
        "<a href=\"https://drive.google.com/uc?id=1Dr-p-o5yMi3uIS2kPcUUwT5bH0cCt1Be\n",
        "\" target=\"_blank\"><img src=\"https://drive.google.com/uc?id=1Dr-p-o5yMi3uIS2kPcUUwT5bH0cCt1Be\" \n",
        "alt=\"IMAGE ALT TEXT HERE\" width=\"360\" border=\"0\" /></a>\n"
      ]
    },
    {
      "cell_type": "markdown",
      "metadata": {
        "id": "S15gn1XfLqaw"
      },
      "source": [
        "**Обзор доступных данных**\n",
        "\n",
        "В наборе данных 21613 наблюдений и 16 признаков. \n",
        "Таким образом, про каждый из 21613 объектов недвижимости мы знаем значения 16 характеристик (число спален, оценка состояния риелтором, наличие вида на воду и т.п.)\n",
        "\n",
        "Выборка была разбита на две части для обучения и для тестирования модели. Данные на обучение и тест обычно делят случайно и равномерно: нужно чтобы и обучающая, и тестовая выборка были похожие на те данные, на которых модель будет использоваться в боевых условиях. \n",
        "\n",
        "Более сложные разбиения могут использоваться если в данных есть временная компонента - например, мы строим скоринговую модель и для теста откладываем данные за последние несколько месяцев, а всю остальную выборку используем для обучения. Такое разбиение имитирует реальную работу модели: мы можем обучаться только на данных прошлых кредитов, а работать модель уже будет на данных из будущего. \n",
        "\n",
        "Доли общей выборки для обучения и тестирования обычно 70% и 30% соотвественно. Любые разумные числа подходят, если для обучения используется достаточно много данных (обычно больше 50%), но и для тестирования что-то остается (10% и больше).\n"
      ]
    },
    {
      "cell_type": "markdown",
      "metadata": {
        "id": "iOeVms4dLqax"
      },
      "source": [
        "Данные содержат два типа переменных:\n",
        "\n",
        "* Целевая: **Целевая. Цена**\n",
        "* Остальные переменные **могут использоваться для прогноза целевой переменной.**"
      ]
    },
    {
      "cell_type": "markdown",
      "metadata": {
        "id": "OFP_i1F1Lqay"
      },
      "source": [
        "## План анализа данных (data mining):\n",
        "\n",
        "  1. Загрузить данные для обучения\n",
        "  2. Обработать данные перед обучением модели\n",
        "  3. Обучить модель на обучающей выборке\n",
        "  4. Загрузить и предобработать данные для тестирования\n",
        "  5. Провалидировать модель на тестовой выборке\n",
        "  6. Проанализировать важность признаков и не забыть про постановку задачи"
      ]
    },
    {
      "cell_type": "markdown",
      "metadata": {
        "id": "mKUYn0nHLqaz"
      },
      "source": [
        "## 1. Загрузить данные для обучения"
      ]
    },
    {
      "cell_type": "markdown",
      "metadata": {
        "id": "Bqqurd70Lqaz"
      },
      "source": [
        "**Шаг 1.1. Загружаем библиотеки** "
      ]
    },
    {
      "cell_type": "markdown",
      "metadata": {
        "id": "rY5oSQ0-Lqa0"
      },
      "source": [
        "Библиотека **warnings** отвечает за то, какие предупреждения (warnings) о работе будут выводиться пользователю. \n",
        "FutureWarning - предупреждения о том, как изменится работа библиотек в будущих версиях.\n",
        "Поэтому такие предупреждения мы будем игнорировать.\n",
        "Чтобы включить режим игнорирования мы отбираем все предупреждения из категории FutureWarning и выбираем для них действия 'ignore'.\n",
        "Это делается вызовом функции simplefilter c задание двух атрибутов: действия action и категории предупреждений category."
      ]
    },
    {
      "cell_type": "code",
      "execution_count": 1,
      "metadata": {
        "id": "SVfM6HC8Lqa1"
      },
      "outputs": [],
      "source": [
        "import warnings\n",
        "warnings.simplefilter(action='ignore', category=FutureWarning)"
      ]
    },
    {
      "cell_type": "markdown",
      "metadata": {
        "id": "28Bf-HdaLqa4"
      },
      "source": [
        "Для корректной работы с данными в python требуется загрузить специальную библиотеку\n",
        "**pandas**, программную библиотеку на языке python для обработки и анализа данных. "
      ]
    },
    {
      "cell_type": "code",
      "execution_count": 2,
      "metadata": {
        "id": "DuCW163qLqa4"
      },
      "outputs": [],
      "source": [
        "import pandas as pd # загружаем библиотеку и для простоты обращения в коде называем её сокращенно pd"
      ]
    },
    {
      "cell_type": "markdown",
      "metadata": {
        "id": "NT0TLhqxLqa7"
      },
      "source": [
        "Для корректной работы с графиками в python требуется загрузить специальную библиотеку\n",
        "**matplotlib**, программную библиотеку на языке python для визуализации данных двумерной и трехмерной графикой.\n",
        "\n",
        "Графики используются для облегчения интерпретации полученных результатов, а также в качестве иллюстраций в презентациях и отчетах. \n",
        "\n",
        "Оснвные методы для построения:\n",
        "* plot() - графики\n",
        "* semilogy() - график логарифмический\n",
        "* hist() - гистограммы"
      ]
    },
    {
      "cell_type": "code",
      "execution_count": 3,
      "metadata": {
        "id": "gHGUZu8rLqa8"
      },
      "outputs": [],
      "source": [
        "import matplotlib.pyplot as plt # загружаем библиотеку и для простоты обращения в коде называем её сокращенно plt\n",
        "# указываем, чтобы картинки отображались прямо в ноутбуке \n",
        "%matplotlib inline "
      ]
    },
    {
      "cell_type": "markdown",
      "metadata": {
        "id": "JVr8btg7Qk3x"
      },
      "source": [
        "**Шаг 1.2. Загрузим данные**"
      ]
    },
    {
      "cell_type": "markdown",
      "metadata": {
        "id": "5pzU4iRyQN9H"
      },
      "source": [
        "Для решения задачи мы будем использовать данные. Они состоят из двух частей: часть для обучения и часть для тестирования модели. Загружаем данные с помощие команды !wget. Для того, чтобы игнорировать сообщения в процессе загрузки используем магическую команду %%capture в первой строке."
      ]
    },
    {
      "cell_type": "code",
      "execution_count": 9,
      "metadata": {
        "id": "g6rmRg3BOTxG"
      },
      "outputs": [],
      "source": [
        "%%capture\n",
        "!wget https://www.dropbox.com/s/afwb0tnqm9izxha/predict_house_price_training_data.xlsx\n",
        "!wget https://www.dropbox.com/s/sur2avqf4n5f4az/predict_house_price_test_data.xlsx"
      ]
    },
    {
      "cell_type": "markdown",
      "metadata": {
        "id": "yJpKlVRBLqa-"
      },
      "source": [
        "Так как данные в формате xlsx (Excel), мы будем использовать специальную функцию\n",
        "из библиотеки pandas для загрузки таких данных **read_excel**.\n",
        "\n",
        "В функции передаем один атрибут: название таблицы с данными."
      ]
    },
    {
      "cell_type": "code",
      "execution_count": 10,
      "metadata": {
        "id": "jaBeMSeuLqa_"
      },
      "outputs": [
        {
          "ename": "FileNotFoundError",
          "evalue": "[Errno 2] No such file or directory: 'predict_house_price_training_data.xlsx'",
          "output_type": "error",
          "traceback": [
            "\u001b[0;31m---------------------------------------------------------------------------\u001b[0m",
            "\u001b[0;31mFileNotFoundError\u001b[0m                         Traceback (most recent call last)",
            "\u001b[0;32m/var/folders/7t/dzv0glyn12n3y2zw2wjtylg80000gn/T/ipykernel_32831/2889893837.py\u001b[0m in \u001b[0;36m<module>\u001b[0;34m\u001b[0m\n\u001b[0;32m----> 1\u001b[0;31m \u001b[0mtraining_data\u001b[0m \u001b[0;34m=\u001b[0m \u001b[0mpd\u001b[0m\u001b[0;34m.\u001b[0m\u001b[0mread_excel\u001b[0m\u001b[0;34m(\u001b[0m\u001b[0;34m'predict_house_price_training_data.xlsx'\u001b[0m\u001b[0;34m)\u001b[0m \u001b[0;31m# загружаем таблицу в переменную training_data\u001b[0m\u001b[0;34m\u001b[0m\u001b[0;34m\u001b[0m\u001b[0m\n\u001b[0m",
            "\u001b[0;32m/usr/local/lib/python3.9/site-packages/pandas/util/_decorators.py\u001b[0m in \u001b[0;36mwrapper\u001b[0;34m(*args, **kwargs)\u001b[0m\n\u001b[1;32m    309\u001b[0m                     \u001b[0mstacklevel\u001b[0m\u001b[0;34m=\u001b[0m\u001b[0mstacklevel\u001b[0m\u001b[0;34m,\u001b[0m\u001b[0;34m\u001b[0m\u001b[0;34m\u001b[0m\u001b[0m\n\u001b[1;32m    310\u001b[0m                 )\n\u001b[0;32m--> 311\u001b[0;31m             \u001b[0;32mreturn\u001b[0m \u001b[0mfunc\u001b[0m\u001b[0;34m(\u001b[0m\u001b[0;34m*\u001b[0m\u001b[0margs\u001b[0m\u001b[0;34m,\u001b[0m \u001b[0;34m**\u001b[0m\u001b[0mkwargs\u001b[0m\u001b[0;34m)\u001b[0m\u001b[0;34m\u001b[0m\u001b[0;34m\u001b[0m\u001b[0m\n\u001b[0m\u001b[1;32m    312\u001b[0m \u001b[0;34m\u001b[0m\u001b[0m\n\u001b[1;32m    313\u001b[0m         \u001b[0;32mreturn\u001b[0m \u001b[0mwrapper\u001b[0m\u001b[0;34m\u001b[0m\u001b[0;34m\u001b[0m\u001b[0m\n",
            "\u001b[0;32m/usr/local/lib/python3.9/site-packages/pandas/io/excel/_base.py\u001b[0m in \u001b[0;36mread_excel\u001b[0;34m(io, sheet_name, header, names, index_col, usecols, squeeze, dtype, engine, converters, true_values, false_values, skiprows, nrows, na_values, keep_default_na, na_filter, verbose, parse_dates, date_parser, thousands, comment, skipfooter, convert_float, mangle_dupe_cols, storage_options)\u001b[0m\n\u001b[1;32m    362\u001b[0m     \u001b[0;32mif\u001b[0m \u001b[0;32mnot\u001b[0m \u001b[0misinstance\u001b[0m\u001b[0;34m(\u001b[0m\u001b[0mio\u001b[0m\u001b[0;34m,\u001b[0m \u001b[0mExcelFile\u001b[0m\u001b[0;34m)\u001b[0m\u001b[0;34m:\u001b[0m\u001b[0;34m\u001b[0m\u001b[0;34m\u001b[0m\u001b[0m\n\u001b[1;32m    363\u001b[0m         \u001b[0mshould_close\u001b[0m \u001b[0;34m=\u001b[0m \u001b[0;32mTrue\u001b[0m\u001b[0;34m\u001b[0m\u001b[0;34m\u001b[0m\u001b[0m\n\u001b[0;32m--> 364\u001b[0;31m         \u001b[0mio\u001b[0m \u001b[0;34m=\u001b[0m \u001b[0mExcelFile\u001b[0m\u001b[0;34m(\u001b[0m\u001b[0mio\u001b[0m\u001b[0;34m,\u001b[0m \u001b[0mstorage_options\u001b[0m\u001b[0;34m=\u001b[0m\u001b[0mstorage_options\u001b[0m\u001b[0;34m,\u001b[0m \u001b[0mengine\u001b[0m\u001b[0;34m=\u001b[0m\u001b[0mengine\u001b[0m\u001b[0;34m)\u001b[0m\u001b[0;34m\u001b[0m\u001b[0;34m\u001b[0m\u001b[0m\n\u001b[0m\u001b[1;32m    365\u001b[0m     \u001b[0;32melif\u001b[0m \u001b[0mengine\u001b[0m \u001b[0;32mand\u001b[0m \u001b[0mengine\u001b[0m \u001b[0;34m!=\u001b[0m \u001b[0mio\u001b[0m\u001b[0;34m.\u001b[0m\u001b[0mengine\u001b[0m\u001b[0;34m:\u001b[0m\u001b[0;34m\u001b[0m\u001b[0;34m\u001b[0m\u001b[0m\n\u001b[1;32m    366\u001b[0m         raise ValueError(\n",
            "\u001b[0;32m/usr/local/lib/python3.9/site-packages/pandas/io/excel/_base.py\u001b[0m in \u001b[0;36m__init__\u001b[0;34m(self, path_or_buffer, engine, storage_options)\u001b[0m\n\u001b[1;32m   1189\u001b[0m                 \u001b[0mext\u001b[0m \u001b[0;34m=\u001b[0m \u001b[0;34m\"xls\"\u001b[0m\u001b[0;34m\u001b[0m\u001b[0;34m\u001b[0m\u001b[0m\n\u001b[1;32m   1190\u001b[0m             \u001b[0;32melse\u001b[0m\u001b[0;34m:\u001b[0m\u001b[0;34m\u001b[0m\u001b[0;34m\u001b[0m\u001b[0m\n\u001b[0;32m-> 1191\u001b[0;31m                 ext = inspect_excel_format(\n\u001b[0m\u001b[1;32m   1192\u001b[0m                     \u001b[0mcontent_or_path\u001b[0m\u001b[0;34m=\u001b[0m\u001b[0mpath_or_buffer\u001b[0m\u001b[0;34m,\u001b[0m \u001b[0mstorage_options\u001b[0m\u001b[0;34m=\u001b[0m\u001b[0mstorage_options\u001b[0m\u001b[0;34m\u001b[0m\u001b[0;34m\u001b[0m\u001b[0m\n\u001b[1;32m   1193\u001b[0m                 )\n",
            "\u001b[0;32m/usr/local/lib/python3.9/site-packages/pandas/io/excel/_base.py\u001b[0m in \u001b[0;36minspect_excel_format\u001b[0;34m(content_or_path, storage_options)\u001b[0m\n\u001b[1;32m   1068\u001b[0m         \u001b[0mcontent_or_path\u001b[0m \u001b[0;34m=\u001b[0m \u001b[0mBytesIO\u001b[0m\u001b[0;34m(\u001b[0m\u001b[0mcontent_or_path\u001b[0m\u001b[0;34m)\u001b[0m\u001b[0;34m\u001b[0m\u001b[0;34m\u001b[0m\u001b[0m\n\u001b[1;32m   1069\u001b[0m \u001b[0;34m\u001b[0m\u001b[0m\n\u001b[0;32m-> 1070\u001b[0;31m     with get_handle(\n\u001b[0m\u001b[1;32m   1071\u001b[0m         \u001b[0mcontent_or_path\u001b[0m\u001b[0;34m,\u001b[0m \u001b[0;34m\"rb\"\u001b[0m\u001b[0;34m,\u001b[0m \u001b[0mstorage_options\u001b[0m\u001b[0;34m=\u001b[0m\u001b[0mstorage_options\u001b[0m\u001b[0;34m,\u001b[0m \u001b[0mis_text\u001b[0m\u001b[0;34m=\u001b[0m\u001b[0;32mFalse\u001b[0m\u001b[0;34m\u001b[0m\u001b[0;34m\u001b[0m\u001b[0m\n\u001b[1;32m   1072\u001b[0m     ) as handle:\n",
            "\u001b[0;32m/usr/local/lib/python3.9/site-packages/pandas/io/common.py\u001b[0m in \u001b[0;36mget_handle\u001b[0;34m(path_or_buf, mode, encoding, compression, memory_map, is_text, errors, storage_options)\u001b[0m\n\u001b[1;32m    709\u001b[0m         \u001b[0;32melse\u001b[0m\u001b[0;34m:\u001b[0m\u001b[0;34m\u001b[0m\u001b[0;34m\u001b[0m\u001b[0m\n\u001b[1;32m    710\u001b[0m             \u001b[0;31m# Binary mode\u001b[0m\u001b[0;34m\u001b[0m\u001b[0;34m\u001b[0m\u001b[0;34m\u001b[0m\u001b[0m\n\u001b[0;32m--> 711\u001b[0;31m             \u001b[0mhandle\u001b[0m \u001b[0;34m=\u001b[0m \u001b[0mopen\u001b[0m\u001b[0;34m(\u001b[0m\u001b[0mhandle\u001b[0m\u001b[0;34m,\u001b[0m \u001b[0mioargs\u001b[0m\u001b[0;34m.\u001b[0m\u001b[0mmode\u001b[0m\u001b[0;34m)\u001b[0m\u001b[0;34m\u001b[0m\u001b[0;34m\u001b[0m\u001b[0m\n\u001b[0m\u001b[1;32m    712\u001b[0m         \u001b[0mhandles\u001b[0m\u001b[0;34m.\u001b[0m\u001b[0mappend\u001b[0m\u001b[0;34m(\u001b[0m\u001b[0mhandle\u001b[0m\u001b[0;34m)\u001b[0m\u001b[0;34m\u001b[0m\u001b[0;34m\u001b[0m\u001b[0m\n\u001b[1;32m    713\u001b[0m \u001b[0;34m\u001b[0m\u001b[0m\n",
            "\u001b[0;31mFileNotFoundError\u001b[0m: [Errno 2] No such file or directory: 'predict_house_price_training_data.xlsx'"
          ]
        }
      ],
      "source": [
        "training_data = pd.read_excel('predict_house_price_training_data.xlsx') # загружаем таблицу в переменную training_data"
      ]
    },
    {
      "cell_type": "markdown",
      "metadata": {
        "id": "jK9Xd2a5LqbB"
      },
      "source": [
        "*Что важно посмотреть после того, как мы загрузили данные?*\n",
        "- проверить, что данные действительно загрузились\n",
        "- посмотреть на данные, чтобы удостовериться, что они правильные: колонки имеют те же названия, что и в таблице и т.д.\n",
        "\n",
        "Для того чтобы это сделать, нужно вызвать от переменной *training_data* метод **head()**, который выводит первые 5 строк таблицы. \n",
        "\n",
        "Для вызова метода объекта необходимо сначала написать *имя объекта*, затем поставить *точку*, затем уже написать *название метода*. Обратите внимание, что в конце обязательно ставить скобочки, потому что метод - это функция и в ней есть аргументы, просто в данном случае мы их не передаем, поэтому оставляем поле пустым"
      ]
    },
    {
      "cell_type": "code",
      "execution_count": null,
      "metadata": {
        "colab": {
          "base_uri": "https://localhost:8080/",
          "height": 238
        },
        "id": "q3Me_dg-LqbC",
        "outputId": "f288440b-7403-4bf4-fdcf-26e0aa953981"
      },
      "outputs": [
        {
          "data": {
            "text/html": [
              "<div>\n",
              "<style scoped>\n",
              "    .dataframe tbody tr th:only-of-type {\n",
              "        vertical-align: middle;\n",
              "    }\n",
              "\n",
              "    .dataframe tbody tr th {\n",
              "        vertical-align: top;\n",
              "    }\n",
              "\n",
              "    .dataframe thead th {\n",
              "        text-align: right;\n",
              "    }\n",
              "</style>\n",
              "<table border=\"1\" class=\"dataframe\">\n",
              "  <thead>\n",
              "    <tr style=\"text-align: right;\">\n",
              "      <th></th>\n",
              "      <th>Целевая.Цена</th>\n",
              "      <th>Спальни</th>\n",
              "      <th>Ванные</th>\n",
              "      <th>Жилая площадь</th>\n",
              "      <th>Общая площадь</th>\n",
              "      <th>Количество этажей</th>\n",
              "      <th>Вид на воду</th>\n",
              "      <th>Просмотрены ранее</th>\n",
              "      <th>Состояние</th>\n",
              "      <th>Оценка риелтора</th>\n",
              "      <th>Площадь без подвала</th>\n",
              "      <th>Площадь подвала</th>\n",
              "      <th>Год постройки</th>\n",
              "      <th>Год реновации</th>\n",
              "      <th>Широта</th>\n",
              "      <th>Долгота</th>\n",
              "    </tr>\n",
              "  </thead>\n",
              "  <tbody>\n",
              "    <tr>\n",
              "      <th>0</th>\n",
              "      <td>830000</td>\n",
              "      <td>5</td>\n",
              "      <td>3.50</td>\n",
              "      <td>3490</td>\n",
              "      <td>21780</td>\n",
              "      <td>2.0</td>\n",
              "      <td>0</td>\n",
              "      <td>0</td>\n",
              "      <td>3</td>\n",
              "      <td>8</td>\n",
              "      <td>3490</td>\n",
              "      <td>0</td>\n",
              "      <td>1996</td>\n",
              "      <td>0</td>\n",
              "      <td>47.6707</td>\n",
              "      <td>-122.144</td>\n",
              "    </tr>\n",
              "    <tr>\n",
              "      <th>1</th>\n",
              "      <td>385000</td>\n",
              "      <td>4</td>\n",
              "      <td>1.75</td>\n",
              "      <td>2360</td>\n",
              "      <td>7620</td>\n",
              "      <td>1.0</td>\n",
              "      <td>0</td>\n",
              "      <td>0</td>\n",
              "      <td>4</td>\n",
              "      <td>7</td>\n",
              "      <td>1180</td>\n",
              "      <td>1180</td>\n",
              "      <td>1955</td>\n",
              "      <td>0</td>\n",
              "      <td>47.5278</td>\n",
              "      <td>-122.345</td>\n",
              "    </tr>\n",
              "    <tr>\n",
              "      <th>2</th>\n",
              "      <td>610000</td>\n",
              "      <td>6</td>\n",
              "      <td>2.75</td>\n",
              "      <td>2040</td>\n",
              "      <td>8560</td>\n",
              "      <td>1.0</td>\n",
              "      <td>0</td>\n",
              "      <td>2</td>\n",
              "      <td>4</td>\n",
              "      <td>7</td>\n",
              "      <td>1100</td>\n",
              "      <td>940</td>\n",
              "      <td>1961</td>\n",
              "      <td>0</td>\n",
              "      <td>47.6160</td>\n",
              "      <td>-122.115</td>\n",
              "    </tr>\n",
              "    <tr>\n",
              "      <th>3</th>\n",
              "      <td>550000</td>\n",
              "      <td>3</td>\n",
              "      <td>1.75</td>\n",
              "      <td>1940</td>\n",
              "      <td>8376</td>\n",
              "      <td>1.0</td>\n",
              "      <td>0</td>\n",
              "      <td>0</td>\n",
              "      <td>4</td>\n",
              "      <td>8</td>\n",
              "      <td>1290</td>\n",
              "      <td>650</td>\n",
              "      <td>1963</td>\n",
              "      <td>0</td>\n",
              "      <td>47.5586</td>\n",
              "      <td>-122.173</td>\n",
              "    </tr>\n",
              "    <tr>\n",
              "      <th>4</th>\n",
              "      <td>1300000</td>\n",
              "      <td>3</td>\n",
              "      <td>2.75</td>\n",
              "      <td>3450</td>\n",
              "      <td>5350</td>\n",
              "      <td>1.5</td>\n",
              "      <td>0</td>\n",
              "      <td>3</td>\n",
              "      <td>4</td>\n",
              "      <td>9</td>\n",
              "      <td>2590</td>\n",
              "      <td>860</td>\n",
              "      <td>1925</td>\n",
              "      <td>0</td>\n",
              "      <td>47.6389</td>\n",
              "      <td>-122.407</td>\n",
              "    </tr>\n",
              "  </tbody>\n",
              "</table>\n",
              "</div>"
            ],
            "text/plain": [
              "   Целевая.Цена  Спальни  Ванные  ...  Год реновации   Широта  Долгота\n",
              "0        830000        5    3.50  ...              0  47.6707 -122.144\n",
              "1        385000        4    1.75  ...              0  47.5278 -122.345\n",
              "2        610000        6    2.75  ...              0  47.6160 -122.115\n",
              "3        550000        3    1.75  ...              0  47.5586 -122.173\n",
              "4       1300000        3    2.75  ...              0  47.6389 -122.407\n",
              "\n",
              "[5 rows x 16 columns]"
            ]
          },
          "execution_count": 7,
          "metadata": {
            "tags": []
          },
          "output_type": "execute_result"
        }
      ],
      "source": [
        "training_data.head()"
      ]
    },
    {
      "cell_type": "markdown",
      "metadata": {
        "id": "wkuIAKG4LqbF"
      },
      "source": [
        "**Шаг 1.3. Посмотрим на размеры загруженной таблицы**, у которой мы видели только первые 5 строк.\n",
        "\n",
        "Для этого вызываем поле **shape** у нашей переменной *training_data*. Поле вызывается также как метод, но в конце скобки не ставятся, так как для поля не предусмотрена передача аргументов.  "
      ]
    },
    {
      "cell_type": "code",
      "execution_count": null,
      "metadata": {
        "colab": {
          "base_uri": "https://localhost:8080/",
          "height": 34
        },
        "id": "8uNkaQKWLqbG",
        "outputId": "0b8dc5ca-78cb-4158-9a47-1b7701fcaa84"
      },
      "outputs": [
        {
          "data": {
            "text/plain": [
              "(15129, 16)"
            ]
          },
          "execution_count": 9,
          "metadata": {
            "tags": []
          },
          "output_type": "execute_result"
        }
      ],
      "source": [
        "training_data.shape"
      ]
    },
    {
      "cell_type": "markdown",
      "metadata": {
        "id": "8oiD7YJjLqbI"
      },
      "source": [
        "*Что означает первое и второе число?*\n",
        "\n",
        "Итак, таблица содержит 15129 строк (объектов) и 16 столбцов (признаков), включая выходной (целевой) признак.\n",
        "15129 меньше 21613, так как мы пока загрузили только часть данных, которую будем использовать для обучения модели.\n",
        "\n",
        "Таблицу проверили, теперь можно приступать к обработке данных."
      ]
    },
    {
      "cell_type": "markdown",
      "metadata": {
        "id": "Mz4rsFhALqbJ"
      },
      "source": [
        "# 2. Обработать данные перед обучением модели"
      ]
    },
    {
      "cell_type": "markdown",
      "metadata": {
        "id": "0Z2QQXxSLqbK"
      },
      "source": [
        "**Шаг 2.1. Проверяем данные на наличие пропусков и типов переменных**\n",
        "\n",
        "Начнем с проверки общей информации о данных.\n",
        "Для того чтобы это сделать, нужно обратиться вызвать у переменной *training_data* метод **info()**.\n",
        "\n",
        "Напомним, что в конце необходимо поставить скобочки."
      ]
    },
    {
      "cell_type": "code",
      "execution_count": null,
      "metadata": {
        "colab": {
          "base_uri": "https://localhost:8080/",
          "height": 408
        },
        "id": "yBfVVIN7LqbL",
        "outputId": "fb581aa0-2cd6-44ea-fe37-c2a9a7d4d239"
      },
      "outputs": [
        {
          "name": "stdout",
          "output_type": "stream",
          "text": [
            "<class 'pandas.core.frame.DataFrame'>\n",
            "RangeIndex: 15129 entries, 0 to 15128\n",
            "Data columns (total 16 columns):\n",
            " #   Column               Non-Null Count  Dtype  \n",
            "---  ------               --------------  -----  \n",
            " 0   Целевая.Цена         15129 non-null  int64  \n",
            " 1   Спальни              15129 non-null  int64  \n",
            " 2   Ванные               15129 non-null  float64\n",
            " 3   Жилая площадь        15129 non-null  int64  \n",
            " 4   Общая площадь        15129 non-null  int64  \n",
            " 5   Количество этажей    15129 non-null  float64\n",
            " 6   Вид на воду          15129 non-null  int64  \n",
            " 7   Просмотрены ранее    15129 non-null  int64  \n",
            " 8   Состояние            15129 non-null  int64  \n",
            " 9   Оценка риелтора      15129 non-null  int64  \n",
            " 10  Площадь без подвала  15129 non-null  int64  \n",
            " 11  Площадь подвала      15129 non-null  int64  \n",
            " 12  Год постройки        15129 non-null  int64  \n",
            " 13  Год реновации        15129 non-null  int64  \n",
            " 14  Широта               15129 non-null  float64\n",
            " 15  Долгота              15129 non-null  float64\n",
            "dtypes: float64(4), int64(12)\n",
            "memory usage: 1.8 MB\n"
          ]
        }
      ],
      "source": [
        "training_data.info()"
      ]
    },
    {
      "cell_type": "markdown",
      "metadata": {
        "id": "va78W9uuLqbN"
      },
      "source": [
        "Анализируем результата выполнения команды:\n",
        "\n",
        "* 15129 строк (entries)\n",
        "* 16 столбцов (Data columns)\n",
        "\n",
        "В данных присутствует всего два типа dtypes:\n",
        "* int64 - целое число  (12 столбцов)\n",
        "* float64 - дробное число (4 столбца)\n",
        "\n",
        "Цифры в каждой строчке обозначают количество заполненных (*non-null*) значений. Так как эти цифры в каждой строчке совпадают с числом строк (15129), то в данных нет пропусков и можно двигаться дальше. "
      ]
    },
    {
      "cell_type": "markdown",
      "metadata": {
        "id": "oPiLacxmLqbO"
      },
      "source": [
        "**Шаг 2.2. Работаем с целевой переменной**\n",
        "\n",
        "*Какая переменная целевая?*\n",
        "\n",
        "В данном случае по условию задачи мы должны прогнозировать стоимость, поэтому целевая переменная - это цена. "
      ]
    },
    {
      "cell_type": "code",
      "execution_count": null,
      "metadata": {
        "id": "EsyYEJd0LqbP"
      },
      "outputs": [],
      "source": [
        "target_variable_name = 'Целевая.Цена'"
      ]
    },
    {
      "cell_type": "markdown",
      "metadata": {
        "id": "gOM9Kj8pLqbS"
      },
      "source": [
        "Нам нужно выделить в отдельную переменную *training_values* столбец из нашей таблицы, который соответствует определенной выше целевой переменной. Для этого мы у таблицы *training_data* в квадратных скобках указываем имя нужного столбца. В нашем случае это имя записано в переменной *target_variable_name*. "
      ]
    },
    {
      "cell_type": "code",
      "execution_count": null,
      "metadata": {
        "id": "BbEcpf4mLqbT"
      },
      "outputs": [],
      "source": [
        "training_values = training_data[target_variable_name]"
      ]
    },
    {
      "cell_type": "markdown",
      "metadata": {
        "id": "INrEpAUkLqbV"
      },
      "source": [
        "Отделим входные переменные от выходной (целевой), чтобы можно было построить модель предсказания целевой переменной по входным. \n",
        "Для это нужно у переменной *training_data* вызвать метод **drop()**. Результат мы записываем в новую переменную *training_points*. После выполнения запроса *training_points* будет содержать исходную таблицу без целевого столбца. \n",
        "\n",
        "Обратите внимание, что в данном случае мы передаем два аргумента:\n",
        "    1. target_variable_name - название столбца цены, который мы ранее записали в эту переменную и теперь хотим удалить из training_data\n",
        "    2. axis=1 - означает, что мы удаляем столбец, а в случае axis=0 - означает, что мы удаляем строку"
      ]
    },
    {
      "cell_type": "code",
      "execution_count": null,
      "metadata": {
        "id": "DDXkAIHBLqbW"
      },
      "outputs": [],
      "source": [
        "training_points = training_data.drop(target_variable_name, axis=1)"
      ]
    },
    {
      "cell_type": "markdown",
      "metadata": {
        "id": "civG1etNLqbY"
      },
      "source": [
        "Можно посмотреть результаты этих действий, вызвав метод **head()** и поле **shape**, которыми мы пользовались ранее, но сейчас нужно вызывать их от новой переменной *training_points*."
      ]
    },
    {
      "cell_type": "code",
      "execution_count": null,
      "metadata": {
        "colab": {
          "base_uri": "https://localhost:8080/",
          "height": 221
        },
        "id": "tiglFXjuLqbZ",
        "outputId": "242fc89e-a4f3-4ad0-88de-8444e938f4bd"
      },
      "outputs": [
        {
          "data": {
            "text/html": [
              "<div>\n",
              "<style scoped>\n",
              "    .dataframe tbody tr th:only-of-type {\n",
              "        vertical-align: middle;\n",
              "    }\n",
              "\n",
              "    .dataframe tbody tr th {\n",
              "        vertical-align: top;\n",
              "    }\n",
              "\n",
              "    .dataframe thead th {\n",
              "        text-align: right;\n",
              "    }\n",
              "</style>\n",
              "<table border=\"1\" class=\"dataframe\">\n",
              "  <thead>\n",
              "    <tr style=\"text-align: right;\">\n",
              "      <th></th>\n",
              "      <th>Спальни</th>\n",
              "      <th>Ванные</th>\n",
              "      <th>Жилая площадь</th>\n",
              "      <th>Общая площадь</th>\n",
              "      <th>Количество этажей</th>\n",
              "      <th>Вид на воду</th>\n",
              "      <th>Просмотрены ранее</th>\n",
              "      <th>Состояние</th>\n",
              "      <th>Оценка риелтора</th>\n",
              "      <th>Площадь без подвала</th>\n",
              "      <th>Площадь подвала</th>\n",
              "      <th>Год постройки</th>\n",
              "      <th>Год реновации</th>\n",
              "      <th>Широта</th>\n",
              "      <th>Долгота</th>\n",
              "    </tr>\n",
              "  </thead>\n",
              "  <tbody>\n",
              "    <tr>\n",
              "      <th>0</th>\n",
              "      <td>5</td>\n",
              "      <td>3.50</td>\n",
              "      <td>3490</td>\n",
              "      <td>21780</td>\n",
              "      <td>2.0</td>\n",
              "      <td>0</td>\n",
              "      <td>0</td>\n",
              "      <td>3</td>\n",
              "      <td>8</td>\n",
              "      <td>3490</td>\n",
              "      <td>0</td>\n",
              "      <td>1996</td>\n",
              "      <td>0</td>\n",
              "      <td>47.6707</td>\n",
              "      <td>-122.144</td>\n",
              "    </tr>\n",
              "    <tr>\n",
              "      <th>1</th>\n",
              "      <td>4</td>\n",
              "      <td>1.75</td>\n",
              "      <td>2360</td>\n",
              "      <td>7620</td>\n",
              "      <td>1.0</td>\n",
              "      <td>0</td>\n",
              "      <td>0</td>\n",
              "      <td>4</td>\n",
              "      <td>7</td>\n",
              "      <td>1180</td>\n",
              "      <td>1180</td>\n",
              "      <td>1955</td>\n",
              "      <td>0</td>\n",
              "      <td>47.5278</td>\n",
              "      <td>-122.345</td>\n",
              "    </tr>\n",
              "    <tr>\n",
              "      <th>2</th>\n",
              "      <td>6</td>\n",
              "      <td>2.75</td>\n",
              "      <td>2040</td>\n",
              "      <td>8560</td>\n",
              "      <td>1.0</td>\n",
              "      <td>0</td>\n",
              "      <td>2</td>\n",
              "      <td>4</td>\n",
              "      <td>7</td>\n",
              "      <td>1100</td>\n",
              "      <td>940</td>\n",
              "      <td>1961</td>\n",
              "      <td>0</td>\n",
              "      <td>47.6160</td>\n",
              "      <td>-122.115</td>\n",
              "    </tr>\n",
              "    <tr>\n",
              "      <th>3</th>\n",
              "      <td>3</td>\n",
              "      <td>1.75</td>\n",
              "      <td>1940</td>\n",
              "      <td>8376</td>\n",
              "      <td>1.0</td>\n",
              "      <td>0</td>\n",
              "      <td>0</td>\n",
              "      <td>4</td>\n",
              "      <td>8</td>\n",
              "      <td>1290</td>\n",
              "      <td>650</td>\n",
              "      <td>1963</td>\n",
              "      <td>0</td>\n",
              "      <td>47.5586</td>\n",
              "      <td>-122.173</td>\n",
              "    </tr>\n",
              "    <tr>\n",
              "      <th>4</th>\n",
              "      <td>3</td>\n",
              "      <td>2.75</td>\n",
              "      <td>3450</td>\n",
              "      <td>5350</td>\n",
              "      <td>1.5</td>\n",
              "      <td>0</td>\n",
              "      <td>3</td>\n",
              "      <td>4</td>\n",
              "      <td>9</td>\n",
              "      <td>2590</td>\n",
              "      <td>860</td>\n",
              "      <td>1925</td>\n",
              "      <td>0</td>\n",
              "      <td>47.6389</td>\n",
              "      <td>-122.407</td>\n",
              "    </tr>\n",
              "  </tbody>\n",
              "</table>\n",
              "</div>"
            ],
            "text/plain": [
              "   Спальни  Ванные  Жилая площадь  ...  Год реновации   Широта  Долгота\n",
              "0        5    3.50           3490  ...              0  47.6707 -122.144\n",
              "1        4    1.75           2360  ...              0  47.5278 -122.345\n",
              "2        6    2.75           2040  ...              0  47.6160 -122.115\n",
              "3        3    1.75           1940  ...              0  47.5586 -122.173\n",
              "4        3    2.75           3450  ...              0  47.6389 -122.407\n",
              "\n",
              "[5 rows x 15 columns]"
            ]
          },
          "execution_count": 14,
          "metadata": {
            "tags": []
          },
          "output_type": "execute_result"
        }
      ],
      "source": [
        "training_points.head()"
      ]
    },
    {
      "cell_type": "code",
      "execution_count": null,
      "metadata": {
        "colab": {
          "base_uri": "https://localhost:8080/",
          "height": 34
        },
        "id": "DAfReQdsLqbb",
        "outputId": "c01c67cf-6e85-43df-f591-2d3517fef635"
      },
      "outputs": [
        {
          "data": {
            "text/plain": [
              "(15129, 15)"
            ]
          },
          "execution_count": 15,
          "metadata": {
            "tags": []
          },
          "output_type": "execute_result"
        }
      ],
      "source": [
        "training_points.shape"
      ]
    },
    {
      "cell_type": "markdown",
      "metadata": {
        "id": "kx5oc0ScLqbf"
      },
      "source": [
        "Видно, что столбца действительно нет, а количество строк не изменилось. Данные в 5 первых строках такие же, как были ранее."
      ]
    },
    {
      "cell_type": "markdown",
      "metadata": {
        "id": "pJyxgxErLqbg"
      },
      "source": [
        "##   3. Обучить модель на обучающей выборке"
      ]
    },
    {
      "cell_type": "markdown",
      "metadata": {
        "id": "0FvCNInJLqbg"
      },
      "source": [
        "**Шаг 3.1. Выбираем метод, который будем использовать**\n",
        "\n",
        "Проще всего начать с простых методов. \n",
        "\n",
        "На выбор метода для построения модели влияет набор признаков, размер выборки, интуиция про то, какая связь между входными переменными и целевой. Но часто решение принимается исходя из того, какая модель сработала лучше."
      ]
    },
    {
      "cell_type": "markdown",
      "metadata": {
        "id": "m84QeANALqbi"
      },
      "source": [
        "Для корректной работы с методами построения моделей в python требуется загрузить специальную библиотеку\n",
        "**sklearn**, программную библиотеку на языке python для для машинного обучения и анализа данных.\n",
        "\n",
        "Импортируем модуль из этой библиотеки:\n",
        " * *linear_model* - тут находятся все линейные модели"
      ]
    },
    {
      "cell_type": "code",
      "execution_count": null,
      "metadata": {
        "id": "f1mxLNeZLqbj"
      },
      "outputs": [],
      "source": [
        "from sklearn import linear_model"
      ]
    },
    {
      "cell_type": "markdown",
      "metadata": {
        "id": "Zm15N2pvLqbq"
      },
      "source": [
        "Чтобы создать модель линейной регресии, пишем имя модуля 'linear_model', затем точку, затем название модели."
      ]
    },
    {
      "cell_type": "code",
      "execution_count": null,
      "metadata": {
        "id": "aJdy5rsFLqbt"
      },
      "outputs": [],
      "source": [
        "linear_regression_model = linear_model.LinearRegression() # создаем модель"
      ]
    },
    {
      "cell_type": "code",
      "execution_count": null,
      "metadata": {
        "colab": {
          "base_uri": "https://localhost:8080/",
          "height": 34
        },
        "id": "nYk4bedkLqbw",
        "outputId": "b3ed33bd-11d0-4af2-8094-ee3ecedc0fbd"
      },
      "outputs": [
        {
          "data": {
            "text/plain": [
              "LinearRegression(copy_X=True, fit_intercept=True, n_jobs=None, normalize=False)"
            ]
          },
          "execution_count": 18,
          "metadata": {
            "tags": []
          },
          "output_type": "execute_result"
        }
      ],
      "source": [
        "linear_regression_model # смотрим, что получилось"
      ]
    },
    {
      "cell_type": "markdown",
      "metadata": {
        "id": "TM7UfC6uLqb2"
      },
      "source": [
        "**Шаг 3.2. Обучить модель**\n",
        "\n",
        "Теперь, когда мы создали прототип модели, можем её обучить на обучающей выборке. \n",
        "\n",
        "Для этого вызываем метод **fit()** и передаем ему на вход два аргумента: \n",
        "таблицу входных признаков и столбец значений целевой переменной - (training_points, training_values)"
      ]
    },
    {
      "cell_type": "code",
      "execution_count": null,
      "metadata": {
        "colab": {
          "base_uri": "https://localhost:8080/",
          "height": 34
        },
        "id": "zlMSe5KOLqb3",
        "outputId": "09bfdf12-fa41-4e4a-f23a-a3a45695f078"
      },
      "outputs": [
        {
          "data": {
            "text/plain": [
              "LinearRegression(copy_X=True, fit_intercept=True, n_jobs=None, normalize=False)"
            ]
          },
          "execution_count": 19,
          "metadata": {
            "tags": []
          },
          "output_type": "execute_result"
        }
      ],
      "source": [
        "linear_regression_model.fit(training_points, training_values)"
      ]
    },
    {
      "cell_type": "markdown",
      "metadata": {
        "id": "s_MADgOMhxKd"
      },
      "source": [
        "## Задание 3.5\n",
        "\n",
        "Реализуйте настройку параметров модели не с помощью встроенной функции, а с помощью своей реализации.\n",
        "\n",
        "Настроить параметры нужно либо с помощью **стохастического градиентного спуска** либо с помощью **mini-batch градиентного спуска**. \n",
        "Нужно использовать регуляризацию **L1, L2 или Elastic Net**. "
      ]
    },
    {
      "cell_type": "markdown",
      "metadata": {
        "id": "y8BB5t5DLqb8"
      },
      "source": [
        "# 4. Загрузить и предобработать данные для тестирования"
      ]
    },
    {
      "cell_type": "markdown",
      "metadata": {
        "id": "V70UJoRnLqb9"
      },
      "source": [
        "**Шаг 4.1. Загрузим и проанализируем тестовые данные.**\n",
        "\n",
        "Так как данные в формате xlsx (Excel), мы будем использовать специальную функцию\n",
        "из библиотеки pandas для загрузки таких данных **read_excel**.\n",
        "\n",
        "В функции передаем один атрибут: название файла, в котором находится таблица с данными."
      ]
    },
    {
      "cell_type": "code",
      "execution_count": null,
      "metadata": {
        "id": "G2QC-fcBLqb9"
      },
      "outputs": [],
      "source": [
        "test_data = pd.read_excel('predict_house_price_test_data.xlsx')"
      ]
    },
    {
      "cell_type": "markdown",
      "metadata": {
        "id": "D5c96FglLqcA"
      },
      "source": [
        "*Что важно посмотреть, после того, как мы загрузили данные?*\n",
        "\n",
        "- проверить, что данные действительно загрузились\n",
        "- посмотреть на данные, чтобы удостовериться, что они правильные: колонки имеют те же названия, что и в таблице и т.д.\n",
        "\n",
        "Для того чтобы это сделать, нужно вызвать от переменной *test_data* метод **head()**, который выводит первые 5 строк таблицы. \n",
        "\n",
        "Для вызова метода объекта необходимо сначала написать *имя объекта*, затем поставить *точку*, затем уже написать *название метода*. Обратите внимание, что в конце обязательно ставить скобочки, потому что метод - это функция и в ней есть аргументы, просто в данном случае мы их не передаем, поэтому оставляем поле пустым"
      ]
    },
    {
      "cell_type": "code",
      "execution_count": null,
      "metadata": {
        "colab": {
          "base_uri": "https://localhost:8080/",
          "height": 238
        },
        "id": "aWplqmHwLqcC",
        "outputId": "58632679-b4c0-4493-bf21-edb7b393e0e7"
      },
      "outputs": [
        {
          "data": {
            "text/html": [
              "<div>\n",
              "<style scoped>\n",
              "    .dataframe tbody tr th:only-of-type {\n",
              "        vertical-align: middle;\n",
              "    }\n",
              "\n",
              "    .dataframe tbody tr th {\n",
              "        vertical-align: top;\n",
              "    }\n",
              "\n",
              "    .dataframe thead th {\n",
              "        text-align: right;\n",
              "    }\n",
              "</style>\n",
              "<table border=\"1\" class=\"dataframe\">\n",
              "  <thead>\n",
              "    <tr style=\"text-align: right;\">\n",
              "      <th></th>\n",
              "      <th>Целевая.Цена</th>\n",
              "      <th>Спальни</th>\n",
              "      <th>Ванные</th>\n",
              "      <th>Жилая площадь</th>\n",
              "      <th>Общая площадь</th>\n",
              "      <th>Количество этажей</th>\n",
              "      <th>Вид на воду</th>\n",
              "      <th>Просмотрены ранее</th>\n",
              "      <th>Состояние</th>\n",
              "      <th>Оценка риелтора</th>\n",
              "      <th>Площадь без подвала</th>\n",
              "      <th>Площадь подвала</th>\n",
              "      <th>Год постройки</th>\n",
              "      <th>Год реновации</th>\n",
              "      <th>Широта</th>\n",
              "      <th>Долгота</th>\n",
              "    </tr>\n",
              "  </thead>\n",
              "  <tbody>\n",
              "    <tr>\n",
              "      <th>0</th>\n",
              "      <td>260000</td>\n",
              "      <td>3</td>\n",
              "      <td>1.00</td>\n",
              "      <td>1300</td>\n",
              "      <td>10139</td>\n",
              "      <td>1.0</td>\n",
              "      <td>0</td>\n",
              "      <td>0</td>\n",
              "      <td>3</td>\n",
              "      <td>7</td>\n",
              "      <td>1300</td>\n",
              "      <td>0</td>\n",
              "      <td>1962</td>\n",
              "      <td>2007</td>\n",
              "      <td>47.3427</td>\n",
              "      <td>-122.087</td>\n",
              "    </tr>\n",
              "    <tr>\n",
              "      <th>1</th>\n",
              "      <td>734500</td>\n",
              "      <td>4</td>\n",
              "      <td>2.75</td>\n",
              "      <td>3280</td>\n",
              "      <td>6845</td>\n",
              "      <td>2.0</td>\n",
              "      <td>0</td>\n",
              "      <td>0</td>\n",
              "      <td>3</td>\n",
              "      <td>10</td>\n",
              "      <td>3280</td>\n",
              "      <td>0</td>\n",
              "      <td>2003</td>\n",
              "      <td>0</td>\n",
              "      <td>47.7042</td>\n",
              "      <td>-122.107</td>\n",
              "    </tr>\n",
              "    <tr>\n",
              "      <th>2</th>\n",
              "      <td>325000</td>\n",
              "      <td>1</td>\n",
              "      <td>1.00</td>\n",
              "      <td>1220</td>\n",
              "      <td>12426</td>\n",
              "      <td>1.0</td>\n",
              "      <td>0</td>\n",
              "      <td>4</td>\n",
              "      <td>4</td>\n",
              "      <td>6</td>\n",
              "      <td>1220</td>\n",
              "      <td>0</td>\n",
              "      <td>1946</td>\n",
              "      <td>0</td>\n",
              "      <td>47.4047</td>\n",
              "      <td>-122.331</td>\n",
              "    </tr>\n",
              "    <tr>\n",
              "      <th>3</th>\n",
              "      <td>1990000</td>\n",
              "      <td>3</td>\n",
              "      <td>2.50</td>\n",
              "      <td>2880</td>\n",
              "      <td>13500</td>\n",
              "      <td>1.0</td>\n",
              "      <td>0</td>\n",
              "      <td>4</td>\n",
              "      <td>5</td>\n",
              "      <td>8</td>\n",
              "      <td>1520</td>\n",
              "      <td>1360</td>\n",
              "      <td>1950</td>\n",
              "      <td>0</td>\n",
              "      <td>47.6281</td>\n",
              "      <td>-122.216</td>\n",
              "    </tr>\n",
              "    <tr>\n",
              "      <th>4</th>\n",
              "      <td>315000</td>\n",
              "      <td>3</td>\n",
              "      <td>2.00</td>\n",
              "      <td>1300</td>\n",
              "      <td>3731</td>\n",
              "      <td>1.0</td>\n",
              "      <td>0</td>\n",
              "      <td>0</td>\n",
              "      <td>3</td>\n",
              "      <td>7</td>\n",
              "      <td>900</td>\n",
              "      <td>400</td>\n",
              "      <td>1993</td>\n",
              "      <td>0</td>\n",
              "      <td>47.5374</td>\n",
              "      <td>-122.270</td>\n",
              "    </tr>\n",
              "  </tbody>\n",
              "</table>\n",
              "</div>"
            ],
            "text/plain": [
              "   Целевая.Цена  Спальни  Ванные  ...  Год реновации   Широта  Долгота\n",
              "0        260000        3    1.00  ...           2007  47.3427 -122.087\n",
              "1        734500        4    2.75  ...              0  47.7042 -122.107\n",
              "2        325000        1    1.00  ...              0  47.4047 -122.331\n",
              "3       1990000        3    2.50  ...              0  47.6281 -122.216\n",
              "4        315000        3    2.00  ...              0  47.5374 -122.270\n",
              "\n",
              "[5 rows x 16 columns]"
            ]
          },
          "execution_count": 21,
          "metadata": {
            "tags": []
          },
          "output_type": "execute_result"
        }
      ],
      "source": [
        "test_data.head()"
      ]
    },
    {
      "cell_type": "markdown",
      "metadata": {
        "id": "rNOKBtaVLqcF"
      },
      "source": [
        "Посмотрим на размеры загруженной таблицы, так как мы видели только 5 строк\n",
        "\n",
        "Для этого вызываем поле **shape** у нашей переменной *test_data*. Поле вызывается также как метод, но в конце скобки не ставятся (!), так как для поля не предусмотрена передача аргументов.  "
      ]
    },
    {
      "cell_type": "code",
      "execution_count": null,
      "metadata": {
        "colab": {
          "base_uri": "https://localhost:8080/",
          "height": 34
        },
        "id": "FHzoBYPKLqcG",
        "outputId": "f08d06bf-cf38-429e-b149-ed3ad1033d40"
      },
      "outputs": [
        {
          "data": {
            "text/plain": [
              "(6484, 16)"
            ]
          },
          "execution_count": 22,
          "metadata": {
            "tags": []
          },
          "output_type": "execute_result"
        }
      ],
      "source": [
        "test_data.shape"
      ]
    },
    {
      "cell_type": "markdown",
      "metadata": {
        "id": "Sic-zsmxLqcI"
      },
      "source": [
        "*Что означает первое и второе число?* \n",
        "Таблица содержит 6484 строк (объектов) и 16 столбцов (признаков), включая выходной (целевой) признак. Также как в учебных данных до обучения.\n",
        "\n",
        "Таблицу проверили, теперь можно приступать к обработке данных\n",
        "Действуем аналогично тому, как делали с данными для обучения"
      ]
    },
    {
      "cell_type": "markdown",
      "metadata": {
        "id": "cirwOcb7LqcJ"
      },
      "source": [
        "Проверим, есть ли в данных пропуски. Для того чтобы это сделать, нужно обратиться вызвать у переменной *test_data* метод **info()**."
      ]
    },
    {
      "cell_type": "code",
      "execution_count": null,
      "metadata": {
        "colab": {
          "base_uri": "https://localhost:8080/",
          "height": 408
        },
        "id": "-TMC8NvMLqcJ",
        "outputId": "36310ab6-661c-430e-ecc0-74cbdf9c2b3a"
      },
      "outputs": [
        {
          "name": "stdout",
          "output_type": "stream",
          "text": [
            "<class 'pandas.core.frame.DataFrame'>\n",
            "RangeIndex: 6484 entries, 0 to 6483\n",
            "Data columns (total 16 columns):\n",
            " #   Column               Non-Null Count  Dtype  \n",
            "---  ------               --------------  -----  \n",
            " 0   Целевая.Цена         6484 non-null   int64  \n",
            " 1   Спальни              6484 non-null   int64  \n",
            " 2   Ванные               6484 non-null   float64\n",
            " 3   Жилая площадь        6484 non-null   int64  \n",
            " 4   Общая площадь        6484 non-null   int64  \n",
            " 5   Количество этажей    6484 non-null   float64\n",
            " 6   Вид на воду          6484 non-null   int64  \n",
            " 7   Просмотрены ранее    6484 non-null   int64  \n",
            " 8   Состояние            6484 non-null   int64  \n",
            " 9   Оценка риелтора      6484 non-null   int64  \n",
            " 10  Площадь без подвала  6484 non-null   int64  \n",
            " 11  Площадь подвала      6484 non-null   int64  \n",
            " 12  Год постройки        6484 non-null   int64  \n",
            " 13  Год реновации        6484 non-null   int64  \n",
            " 14  Широта               6484 non-null   float64\n",
            " 15  Долгота              6484 non-null   float64\n",
            "dtypes: float64(4), int64(12)\n",
            "memory usage: 810.6 KB\n"
          ]
        }
      ],
      "source": [
        "test_data.info()"
      ]
    },
    {
      "cell_type": "markdown",
      "metadata": {
        "id": "AN3MKGbcLqcL"
      },
      "source": [
        "Цифры в каждой строчке обозначают количество заполненных (*non-null*) значений. Так как эти цифры в каждой строчке совпадают с числом строк (6484), то в данных нет пропусков."
      ]
    },
    {
      "cell_type": "markdown",
      "metadata": {
        "id": "2cUtLvm8LqcM"
      },
      "source": [
        "**Шаг 4.2. Отделяем целевую переменную**"
      ]
    },
    {
      "cell_type": "markdown",
      "metadata": {
        "id": "s2QuCPmzLqcM"
      },
      "source": [
        "Нам нужно выделить в отдельную переменную *test_values* столбец из нашей таблицы, который соответствует определенной выше целевой переменной. Для этого мы у таблицы *test_data* в квадратных скобках указываем имя нужного столбца. В нашем случае это имя записано в переменной *target_variable_name*. "
      ]
    },
    {
      "cell_type": "code",
      "execution_count": null,
      "metadata": {
        "id": "-mJZ2H7QLqcN"
      },
      "outputs": [],
      "source": [
        "test_values = test_data[target_variable_name]"
      ]
    },
    {
      "cell_type": "markdown",
      "metadata": {
        "id": "65B_7B2YLqcP"
      },
      "source": [
        "Отделим входные переменные от выходной (целевой), чтобы можно было построить модель предсказания целевой переменной по входным. \n",
        "Для это нужно у переменной *test_data* вызвать метод **drop()**. Результат мы записываем в новую переменную *test_points*. После выполнения запроса *test_points* будет содержать исходную таблицу без целевого столбца. \n",
        "\n",
        "Обратите внимание, что в данном случае мы передаем два аргумента:\n",
        "    1. target_variable_name - название столбца цены, который мы ранее записали в эту переменную и теперь хотим удалить из training_data\n",
        "    2. axis=1 - означает, что мы удаляем столбец, а в случае axis=0 - означает, что мы удаляем строку"
      ]
    },
    {
      "cell_type": "code",
      "execution_count": null,
      "metadata": {
        "id": "-VIMWvPLLqcQ"
      },
      "outputs": [],
      "source": [
        "test_points = test_data.drop(target_variable_name, axis=1)"
      ]
    },
    {
      "cell_type": "markdown",
      "metadata": {
        "id": "y3Cwim1CLqcV"
      },
      "source": [
        "И проверяем результат записанный в test_points"
      ]
    },
    {
      "cell_type": "code",
      "execution_count": null,
      "metadata": {
        "colab": {
          "base_uri": "https://localhost:8080/",
          "height": 221
        },
        "id": "s20UtLqELqcV",
        "outputId": "4cb045bc-216c-43f5-b045-6b86b2557281"
      },
      "outputs": [
        {
          "data": {
            "text/html": [
              "<div>\n",
              "<style scoped>\n",
              "    .dataframe tbody tr th:only-of-type {\n",
              "        vertical-align: middle;\n",
              "    }\n",
              "\n",
              "    .dataframe tbody tr th {\n",
              "        vertical-align: top;\n",
              "    }\n",
              "\n",
              "    .dataframe thead th {\n",
              "        text-align: right;\n",
              "    }\n",
              "</style>\n",
              "<table border=\"1\" class=\"dataframe\">\n",
              "  <thead>\n",
              "    <tr style=\"text-align: right;\">\n",
              "      <th></th>\n",
              "      <th>Спальни</th>\n",
              "      <th>Ванные</th>\n",
              "      <th>Жилая площадь</th>\n",
              "      <th>Общая площадь</th>\n",
              "      <th>Количество этажей</th>\n",
              "      <th>Вид на воду</th>\n",
              "      <th>Просмотрены ранее</th>\n",
              "      <th>Состояние</th>\n",
              "      <th>Оценка риелтора</th>\n",
              "      <th>Площадь без подвала</th>\n",
              "      <th>Площадь подвала</th>\n",
              "      <th>Год постройки</th>\n",
              "      <th>Год реновации</th>\n",
              "      <th>Широта</th>\n",
              "      <th>Долгота</th>\n",
              "    </tr>\n",
              "  </thead>\n",
              "  <tbody>\n",
              "    <tr>\n",
              "      <th>0</th>\n",
              "      <td>3</td>\n",
              "      <td>1.00</td>\n",
              "      <td>1300</td>\n",
              "      <td>10139</td>\n",
              "      <td>1.0</td>\n",
              "      <td>0</td>\n",
              "      <td>0</td>\n",
              "      <td>3</td>\n",
              "      <td>7</td>\n",
              "      <td>1300</td>\n",
              "      <td>0</td>\n",
              "      <td>1962</td>\n",
              "      <td>2007</td>\n",
              "      <td>47.3427</td>\n",
              "      <td>-122.087</td>\n",
              "    </tr>\n",
              "    <tr>\n",
              "      <th>1</th>\n",
              "      <td>4</td>\n",
              "      <td>2.75</td>\n",
              "      <td>3280</td>\n",
              "      <td>6845</td>\n",
              "      <td>2.0</td>\n",
              "      <td>0</td>\n",
              "      <td>0</td>\n",
              "      <td>3</td>\n",
              "      <td>10</td>\n",
              "      <td>3280</td>\n",
              "      <td>0</td>\n",
              "      <td>2003</td>\n",
              "      <td>0</td>\n",
              "      <td>47.7042</td>\n",
              "      <td>-122.107</td>\n",
              "    </tr>\n",
              "    <tr>\n",
              "      <th>2</th>\n",
              "      <td>1</td>\n",
              "      <td>1.00</td>\n",
              "      <td>1220</td>\n",
              "      <td>12426</td>\n",
              "      <td>1.0</td>\n",
              "      <td>0</td>\n",
              "      <td>4</td>\n",
              "      <td>4</td>\n",
              "      <td>6</td>\n",
              "      <td>1220</td>\n",
              "      <td>0</td>\n",
              "      <td>1946</td>\n",
              "      <td>0</td>\n",
              "      <td>47.4047</td>\n",
              "      <td>-122.331</td>\n",
              "    </tr>\n",
              "    <tr>\n",
              "      <th>3</th>\n",
              "      <td>3</td>\n",
              "      <td>2.50</td>\n",
              "      <td>2880</td>\n",
              "      <td>13500</td>\n",
              "      <td>1.0</td>\n",
              "      <td>0</td>\n",
              "      <td>4</td>\n",
              "      <td>5</td>\n",
              "      <td>8</td>\n",
              "      <td>1520</td>\n",
              "      <td>1360</td>\n",
              "      <td>1950</td>\n",
              "      <td>0</td>\n",
              "      <td>47.6281</td>\n",
              "      <td>-122.216</td>\n",
              "    </tr>\n",
              "    <tr>\n",
              "      <th>4</th>\n",
              "      <td>3</td>\n",
              "      <td>2.00</td>\n",
              "      <td>1300</td>\n",
              "      <td>3731</td>\n",
              "      <td>1.0</td>\n",
              "      <td>0</td>\n",
              "      <td>0</td>\n",
              "      <td>3</td>\n",
              "      <td>7</td>\n",
              "      <td>900</td>\n",
              "      <td>400</td>\n",
              "      <td>1993</td>\n",
              "      <td>0</td>\n",
              "      <td>47.5374</td>\n",
              "      <td>-122.270</td>\n",
              "    </tr>\n",
              "  </tbody>\n",
              "</table>\n",
              "</div>"
            ],
            "text/plain": [
              "   Спальни  Ванные  Жилая площадь  ...  Год реновации   Широта  Долгота\n",
              "0        3    1.00           1300  ...           2007  47.3427 -122.087\n",
              "1        4    2.75           3280  ...              0  47.7042 -122.107\n",
              "2        1    1.00           1220  ...              0  47.4047 -122.331\n",
              "3        3    2.50           2880  ...              0  47.6281 -122.216\n",
              "4        3    2.00           1300  ...              0  47.5374 -122.270\n",
              "\n",
              "[5 rows x 15 columns]"
            ]
          },
          "execution_count": 26,
          "metadata": {
            "tags": []
          },
          "output_type": "execute_result"
        }
      ],
      "source": [
        "test_points.head()"
      ]
    },
    {
      "cell_type": "code",
      "execution_count": null,
      "metadata": {
        "colab": {
          "base_uri": "https://localhost:8080/",
          "height": 34
        },
        "id": "ig4hw7enLqca",
        "outputId": "2fdd4352-4f21-4ce9-a6fc-2c2d85d3491b"
      },
      "outputs": [
        {
          "data": {
            "text/plain": [
              "(6484, 15)"
            ]
          },
          "execution_count": 27,
          "metadata": {
            "tags": []
          },
          "output_type": "execute_result"
        }
      ],
      "source": [
        "test_points.shape"
      ]
    },
    {
      "cell_type": "markdown",
      "metadata": {
        "id": "xvDMV5yoLqce"
      },
      "source": [
        "Видно, что количество столбцов уменьшилось на один. Данные в 5 первых строках такие же, как были ранее."
      ]
    },
    {
      "cell_type": "markdown",
      "metadata": {
        "id": "5QFgDcQXLqcf"
      },
      "source": [
        "# 5. Провалидировать модель на тестовой выборке"
      ]
    },
    {
      "cell_type": "markdown",
      "metadata": {
        "id": "LL7Pb7IlLqcg"
      },
      "source": [
        "**Шаг 5.1. Сравнение моделей.**\n",
        "\n",
        "Теперь мы готовы сравнить качество двух моделей! 😎"
      ]
    },
    {
      "cell_type": "markdown",
      "metadata": {
        "id": "NDTfUzZdLqch"
      },
      "source": [
        "## Задание 3.6 Какая модель лучше?\n",
        "\n",
        "Получим прогнозы целевой переменной на тестовых данных для модели линейной регрессии из sklearn и для своей реализации. \n",
        "\n"
      ]
    },
    {
      "cell_type": "code",
      "execution_count": null,
      "metadata": {
        "id": "DK3TytoFLqch"
      },
      "outputs": [],
      "source": [
        "test_predictions_linear = linear_regression_model.predict(test_points)"
      ]
    },
    {
      "cell_type": "code",
      "execution_count": null,
      "metadata": {
        "id": "WfESQh1Limzq"
      },
      "outputs": [],
      "source": [
        "### введите свой код\n",
        "### код для получения предсказаний с помощью своей реализации алгоритма настройки параметров модели\n"
      ]
    },
    {
      "cell_type": "markdown",
      "metadata": {
        "id": "kxRo4sq1Lqcm"
      },
      "source": [
        "Качество регрессионных моделей оценим двумя способами: \n",
        "1. Сравним визуально прогнозы с настоящими ценами (тестовые с предсказанием)\n",
        "2. Сравним метрики качества MSE и MAE"
      ]
    },
    {
      "cell_type": "markdown",
      "metadata": {
        "id": "Swg445QcLqct"
      },
      "source": [
        "Для корректного подсчета метрик качества модели в python требуется загрузить их из библиотеки **sklearn**. \n",
        "\n",
        "Мы используем две метрики качества:\n",
        " * *mean_absolute_error* - средняя абсолютная ошибка $|y_i - \\hat{y}_i|$\n",
        " * *mean_squared_error* - средняя квадратичная ошибка $(y_i - \\hat{y}_i)^2$"
      ]
    },
    {
      "cell_type": "code",
      "execution_count": null,
      "metadata": {
        "id": "vAmGjpEzLqcu"
      },
      "outputs": [],
      "source": [
        "from sklearn.metrics import mean_absolute_error, mean_squared_error"
      ]
    },
    {
      "cell_type": "markdown",
      "metadata": {
        "id": "gmkMZN2FLqcw"
      },
      "source": [
        "Подсчитаем ошибки для линейной модели.\n",
        "\n",
        "Для этого вызовем методы **mean_absolute_error()** и **mean_squared_error()**. На вход им передается столбец настоящих значений *test_values* и столбец значений, предсказанных моделью линейной регрессии *test_predictions_linear*."
      ]
    },
    {
      "cell_type": "code",
      "execution_count": null,
      "metadata": {
        "id": "k14DseleLqcw"
      },
      "outputs": [],
      "source": [
        "mean_absolute_error_linear_model = mean_absolute_error(test_values, test_predictions_linear) \n",
        "mean_squared_error_linear_model = mean_squared_error(test_values, test_predictions_linear)"
      ]
    },
    {
      "cell_type": "markdown",
      "metadata": {
        "id": "R84sQt9LLqc0"
      },
      "source": [
        "Подсчитайте ошибки для своей реализации модели."
      ]
    },
    {
      "cell_type": "markdown",
      "metadata": {
        "id": "yvsElUo7Lqc2"
      },
      "source": [
        "Теперь напечатаем полученные ошибки. Обычно смотрят на корень из среднеквадратичной ошибки, RMSE. Чтобы извлечь корень нам понадобится библиотека **Numpy**. С помощью неё можно быстро производить вычисления сразу над массивами чисел."
      ]
    },
    {
      "cell_type": "markdown",
      "metadata": {
        "id": "RQS6gBO1Lqc5"
      },
      "source": [
        "## 6. Выявление важных признаков"
      ]
    },
    {
      "cell_type": "markdown",
      "metadata": {
        "id": "NCvDudjKLqc6"
      },
      "source": [
        "Признаки, используемые для обучения модели, оказывают большое влияние на качество результатов. Неинформативные или слабо информативные признаки могут снизить качество модели, использование избыточных признаков в модели замедляет скорость ее работы.\n",
        "\n",
        "Для того, чтобы отобрать признаки нам следует ответить на следующие вопросы: \n",
        "\n",
        "    1. Все ли признаки в наших данных заполненны разумными значениями?\n",
        "    2. Какие признаки будут больше всего влиять на значение целевой переменной?\n",
        "    3. Какие дополнительные признаки имело бы смысл добавить в список входных?"
      ]
    },
    {
      "cell_type": "markdown",
      "metadata": {
        "id": "QlM7skwULqc7"
      },
      "source": [
        "**6.1. Разглядывание значений признаков**\n",
        "\n",
        "Для того чтобы ответить на первый вопрос, нам необходимо получить некоторую нашу экспертную оценку данных. В наших данных нет пропусков, однако иногда пропуски предварительно заполняют другими значениями (0, 999 и другие) и их можно увидеть, только внимательно посмотрев на данные. \n",
        "\n",
        "Для того, чтобы это сделать, нужно вызвать у переменной *training_points* метод **head(10)**, который выводит первые 10 строк таблицы."
      ]
    },
    {
      "cell_type": "code",
      "execution_count": null,
      "metadata": {
        "colab": {
          "base_uri": "https://localhost:8080/",
          "height": 376
        },
        "id": "RF5s50mpLqc9",
        "outputId": "fd01a478-7539-4df4-b291-2084df0f12b1"
      },
      "outputs": [
        {
          "data": {
            "text/html": [
              "<div>\n",
              "<style scoped>\n",
              "    .dataframe tbody tr th:only-of-type {\n",
              "        vertical-align: middle;\n",
              "    }\n",
              "\n",
              "    .dataframe tbody tr th {\n",
              "        vertical-align: top;\n",
              "    }\n",
              "\n",
              "    .dataframe thead th {\n",
              "        text-align: right;\n",
              "    }\n",
              "</style>\n",
              "<table border=\"1\" class=\"dataframe\">\n",
              "  <thead>\n",
              "    <tr style=\"text-align: right;\">\n",
              "      <th></th>\n",
              "      <th>Спальни</th>\n",
              "      <th>Ванные</th>\n",
              "      <th>Жилая площадь</th>\n",
              "      <th>Общая площадь</th>\n",
              "      <th>Количество этажей</th>\n",
              "      <th>Вид на воду</th>\n",
              "      <th>Просмотрены ранее</th>\n",
              "      <th>Состояние</th>\n",
              "      <th>Оценка риелтора</th>\n",
              "      <th>Площадь без подвала</th>\n",
              "      <th>Площадь подвала</th>\n",
              "      <th>Год постройки</th>\n",
              "      <th>Год реновации</th>\n",
              "      <th>Широта</th>\n",
              "      <th>Долгота</th>\n",
              "    </tr>\n",
              "  </thead>\n",
              "  <tbody>\n",
              "    <tr>\n",
              "      <th>0</th>\n",
              "      <td>5</td>\n",
              "      <td>3.50</td>\n",
              "      <td>3490</td>\n",
              "      <td>21780</td>\n",
              "      <td>2.0</td>\n",
              "      <td>0</td>\n",
              "      <td>0</td>\n",
              "      <td>3</td>\n",
              "      <td>8</td>\n",
              "      <td>3490</td>\n",
              "      <td>0</td>\n",
              "      <td>1996</td>\n",
              "      <td>0</td>\n",
              "      <td>47.6707</td>\n",
              "      <td>-122.144</td>\n",
              "    </tr>\n",
              "    <tr>\n",
              "      <th>1</th>\n",
              "      <td>4</td>\n",
              "      <td>1.75</td>\n",
              "      <td>2360</td>\n",
              "      <td>7620</td>\n",
              "      <td>1.0</td>\n",
              "      <td>0</td>\n",
              "      <td>0</td>\n",
              "      <td>4</td>\n",
              "      <td>7</td>\n",
              "      <td>1180</td>\n",
              "      <td>1180</td>\n",
              "      <td>1955</td>\n",
              "      <td>0</td>\n",
              "      <td>47.5278</td>\n",
              "      <td>-122.345</td>\n",
              "    </tr>\n",
              "    <tr>\n",
              "      <th>2</th>\n",
              "      <td>6</td>\n",
              "      <td>2.75</td>\n",
              "      <td>2040</td>\n",
              "      <td>8560</td>\n",
              "      <td>1.0</td>\n",
              "      <td>0</td>\n",
              "      <td>2</td>\n",
              "      <td>4</td>\n",
              "      <td>7</td>\n",
              "      <td>1100</td>\n",
              "      <td>940</td>\n",
              "      <td>1961</td>\n",
              "      <td>0</td>\n",
              "      <td>47.6160</td>\n",
              "      <td>-122.115</td>\n",
              "    </tr>\n",
              "    <tr>\n",
              "      <th>3</th>\n",
              "      <td>3</td>\n",
              "      <td>1.75</td>\n",
              "      <td>1940</td>\n",
              "      <td>8376</td>\n",
              "      <td>1.0</td>\n",
              "      <td>0</td>\n",
              "      <td>0</td>\n",
              "      <td>4</td>\n",
              "      <td>8</td>\n",
              "      <td>1290</td>\n",
              "      <td>650</td>\n",
              "      <td>1963</td>\n",
              "      <td>0</td>\n",
              "      <td>47.5586</td>\n",
              "      <td>-122.173</td>\n",
              "    </tr>\n",
              "    <tr>\n",
              "      <th>4</th>\n",
              "      <td>3</td>\n",
              "      <td>2.75</td>\n",
              "      <td>3450</td>\n",
              "      <td>5350</td>\n",
              "      <td>1.5</td>\n",
              "      <td>0</td>\n",
              "      <td>3</td>\n",
              "      <td>4</td>\n",
              "      <td>9</td>\n",
              "      <td>2590</td>\n",
              "      <td>860</td>\n",
              "      <td>1925</td>\n",
              "      <td>0</td>\n",
              "      <td>47.6389</td>\n",
              "      <td>-122.407</td>\n",
              "    </tr>\n",
              "    <tr>\n",
              "      <th>5</th>\n",
              "      <td>3</td>\n",
              "      <td>2.25</td>\n",
              "      <td>2300</td>\n",
              "      <td>9914</td>\n",
              "      <td>2.0</td>\n",
              "      <td>0</td>\n",
              "      <td>0</td>\n",
              "      <td>4</td>\n",
              "      <td>8</td>\n",
              "      <td>2300</td>\n",
              "      <td>0</td>\n",
              "      <td>1980</td>\n",
              "      <td>0</td>\n",
              "      <td>47.5677</td>\n",
              "      <td>-122.086</td>\n",
              "    </tr>\n",
              "    <tr>\n",
              "      <th>6</th>\n",
              "      <td>3</td>\n",
              "      <td>2.50</td>\n",
              "      <td>2770</td>\n",
              "      <td>8820</td>\n",
              "      <td>1.0</td>\n",
              "      <td>0</td>\n",
              "      <td>0</td>\n",
              "      <td>3</td>\n",
              "      <td>7</td>\n",
              "      <td>1900</td>\n",
              "      <td>870</td>\n",
              "      <td>1980</td>\n",
              "      <td>2004</td>\n",
              "      <td>47.3685</td>\n",
              "      <td>-122.048</td>\n",
              "    </tr>\n",
              "    <tr>\n",
              "      <th>7</th>\n",
              "      <td>2</td>\n",
              "      <td>1.75</td>\n",
              "      <td>1650</td>\n",
              "      <td>7500</td>\n",
              "      <td>1.0</td>\n",
              "      <td>0</td>\n",
              "      <td>0</td>\n",
              "      <td>4</td>\n",
              "      <td>7</td>\n",
              "      <td>1000</td>\n",
              "      <td>650</td>\n",
              "      <td>1959</td>\n",
              "      <td>0</td>\n",
              "      <td>47.6871</td>\n",
              "      <td>-122.207</td>\n",
              "    </tr>\n",
              "    <tr>\n",
              "      <th>8</th>\n",
              "      <td>1</td>\n",
              "      <td>1.00</td>\n",
              "      <td>580</td>\n",
              "      <td>1799</td>\n",
              "      <td>1.0</td>\n",
              "      <td>0</td>\n",
              "      <td>0</td>\n",
              "      <td>3</td>\n",
              "      <td>7</td>\n",
              "      <td>580</td>\n",
              "      <td>0</td>\n",
              "      <td>1908</td>\n",
              "      <td>2005</td>\n",
              "      <td>47.6829</td>\n",
              "      <td>-122.375</td>\n",
              "    </tr>\n",
              "    <tr>\n",
              "      <th>9</th>\n",
              "      <td>2</td>\n",
              "      <td>1.00</td>\n",
              "      <td>900</td>\n",
              "      <td>3400</td>\n",
              "      <td>1.0</td>\n",
              "      <td>0</td>\n",
              "      <td>0</td>\n",
              "      <td>5</td>\n",
              "      <td>6</td>\n",
              "      <td>900</td>\n",
              "      <td>0</td>\n",
              "      <td>1905</td>\n",
              "      <td>0</td>\n",
              "      <td>47.5269</td>\n",
              "      <td>-122.314</td>\n",
              "    </tr>\n",
              "  </tbody>\n",
              "</table>\n",
              "</div>"
            ],
            "text/plain": [
              "   Спальни  Ванные  Жилая площадь  ...  Год реновации   Широта  Долгота\n",
              "0        5    3.50           3490  ...              0  47.6707 -122.144\n",
              "1        4    1.75           2360  ...              0  47.5278 -122.345\n",
              "2        6    2.75           2040  ...              0  47.6160 -122.115\n",
              "3        3    1.75           1940  ...              0  47.5586 -122.173\n",
              "4        3    2.75           3450  ...              0  47.6389 -122.407\n",
              "5        3    2.25           2300  ...              0  47.5677 -122.086\n",
              "6        3    2.50           2770  ...           2004  47.3685 -122.048\n",
              "7        2    1.75           1650  ...              0  47.6871 -122.207\n",
              "8        1    1.00            580  ...           2005  47.6829 -122.375\n",
              "9        2    1.00            900  ...              0  47.5269 -122.314\n",
              "\n",
              "[10 rows x 15 columns]"
            ]
          },
          "execution_count": 30,
          "metadata": {
            "tags": []
          },
          "output_type": "execute_result"
        }
      ],
      "source": [
        "training_points.head(10)"
      ]
    },
    {
      "cell_type": "markdown",
      "metadata": {
        "id": "g-MGwOMxLqdG"
      },
      "source": [
        "Рассмотрим столбец \"Год реновации\". Он содержит много нулей и мало реальных данных о годах, что как раз свидетельствует о том, что в этих данных изначально были пропуски, а к нам они попали уже заполненные нулями. \n",
        "\n",
        "Мы можем посмотреть количество уникальных значений и сколько раз эти значения встречаются в этом столбце. Для этого вызываем метод **value_counts()** у нашего столбца *training_points['Год реновации']*"
      ]
    },
    {
      "cell_type": "code",
      "execution_count": null,
      "metadata": {
        "colab": {
          "base_uri": "https://localhost:8080/",
          "height": 221
        },
        "id": "vZhcfLFXLqdJ",
        "outputId": "8867051b-d491-45b6-fae0-56506db56896",
        "scrolled": true
      },
      "outputs": [
        {
          "data": {
            "text/plain": [
              "0       14490\n",
              "2014       63\n",
              "2013       31\n",
              "2000       28\n",
              "2003       24\n",
              "        ...  \n",
              "1959        1\n",
              "1948        1\n",
              "1954        1\n",
              "1962        1\n",
              "1955        1\n",
              "Name: Год реновации, Length: 67, dtype: int64"
            ]
          },
          "execution_count": 31,
          "metadata": {
            "tags": []
          },
          "output_type": "execute_result"
        }
      ],
      "source": [
        "training_points['Год реновации'].value_counts()"
      ]
    },
    {
      "cell_type": "markdown",
      "metadata": {
        "id": "DnPPjFtGLqdL"
      },
      "source": [
        "Как видно, нулей существенно больше (14490), чем любых других значений (639), поэтому можем сделать вывод, что этот признак не информативен и может негативно повлиять на качество модели."
      ]
    },
    {
      "cell_type": "markdown",
      "metadata": {
        "id": "7kYhqu9ELqdM"
      },
      "source": [
        "**6.2. Какие признаки самые важные**\n",
        "\n",
        "Ручной перебор признаков невозможен, если их тысячи, кроме того, часто даже эксперты не могут сказать, использование каких признаков в модели даст прирост качества.\n",
        "Кроме ручного перебора всех признаков и их визуального анализа, можно использовать оценку значимости признаков с помощью обученных моделей. "
      ]
    },
    {
      "cell_type": "markdown",
      "metadata": {
        "id": "xMlw49Lxj1Ne"
      },
      "source": [
        "## Задание 3.7 "
      ]
    },
    {
      "cell_type": "code",
      "execution_count": null,
      "metadata": {
        "id": "TSzXSHgfLqdN"
      },
      "outputs": [],
      "source": [
        "## введите свой код\n",
        "## напишите код, который вычисляет значимость признака (фактически это просто вес по модулю)"
      ]
    },
    {
      "cell_type": "markdown",
      "metadata": {
        "id": "zyK1fI42LqdT"
      },
      "source": [
        "Представьте полученные результаты в более удобном табличном виде. Создайте пустую таблицу *feature_importance* с двумя колонками \"Название признака\", \"Важность признака\". Для этого воспользуемся функцией **DataFrame()** из библиотеки pandas и передадим ей в качестве аргумента   \n",
        "*columns = [\"Название признака\", \"Важность признака\"]*"
      ]
    },
    {
      "cell_type": "code",
      "execution_count": null,
      "metadata": {
        "id": "H2a9uu6YLqdT"
      },
      "outputs": [],
      "source": [
        "feature_importance = pd.DataFrame(columns = ['Название признака', 'Важность признака'])"
      ]
    },
    {
      "cell_type": "markdown",
      "metadata": {
        "id": "2L5zngrOLqdX"
      },
      "source": [
        "Заполните соответствующие колонки значениями, которые мы получили выше. "
      ]
    },
    {
      "cell_type": "code",
      "execution_count": null,
      "metadata": {
        "colab": {
          "base_uri": "https://localhost:8080/",
          "height": 49
        },
        "id": "gb3TXJEbLqdZ",
        "outputId": "6bf72c84-b6cb-4bc5-bb7e-1efaa88faa5a"
      },
      "outputs": [
        {
          "data": {
            "text/html": [
              "<div>\n",
              "<style scoped>\n",
              "    .dataframe tbody tr th:only-of-type {\n",
              "        vertical-align: middle;\n",
              "    }\n",
              "\n",
              "    .dataframe tbody tr th {\n",
              "        vertical-align: top;\n",
              "    }\n",
              "\n",
              "    .dataframe thead th {\n",
              "        text-align: right;\n",
              "    }\n",
              "</style>\n",
              "<table border=\"1\" class=\"dataframe\">\n",
              "  <thead>\n",
              "    <tr style=\"text-align: right;\">\n",
              "      <th></th>\n",
              "      <th>Название признака</th>\n",
              "      <th>Важность признака</th>\n",
              "    </tr>\n",
              "  </thead>\n",
              "  <tbody>\n",
              "  </tbody>\n",
              "</table>\n",
              "</div>"
            ],
            "text/plain": [
              "Empty DataFrame\n",
              "Columns: [Название признака, Важность признака]\n",
              "Index: []"
            ]
          },
          "execution_count": 35,
          "metadata": {
            "tags": []
          },
          "output_type": "execute_result"
        }
      ],
      "source": [
        "# выведите полученную таблицу\n",
        "feature_importance"
      ]
    },
    {
      "cell_type": "markdown",
      "metadata": {
        "id": "HCqhWnNtLqdb"
      },
      "source": [
        "Мы можем отсортировать значения по важности, вызвав у *feature_importance* метод **sort_values()**.\n",
        "\n",
        "Обратите внимание, что в данном случае мы передаем два аргумента:\n",
        "\n",
        "1. by='Важность признака' - название столбца, по которому мы сортируем\n",
        "2. ascending=False - означает, что мы сортируем по убиыванию, а в случае ascending=True сортировка будет по возростанию"
      ]
    },
    {
      "cell_type": "code",
      "execution_count": null,
      "metadata": {
        "colab": {
          "base_uri": "https://localhost:8080/",
          "height": 49
        },
        "id": "uAOXjcAxLqdb",
        "outputId": "921a2ff0-9bfa-4551-debb-190f85f43399"
      },
      "outputs": [
        {
          "data": {
            "text/html": [
              "<div>\n",
              "<style scoped>\n",
              "    .dataframe tbody tr th:only-of-type {\n",
              "        vertical-align: middle;\n",
              "    }\n",
              "\n",
              "    .dataframe tbody tr th {\n",
              "        vertical-align: top;\n",
              "    }\n",
              "\n",
              "    .dataframe thead th {\n",
              "        text-align: right;\n",
              "    }\n",
              "</style>\n",
              "<table border=\"1\" class=\"dataframe\">\n",
              "  <thead>\n",
              "    <tr style=\"text-align: right;\">\n",
              "      <th></th>\n",
              "      <th>Название признака</th>\n",
              "      <th>Важность признака</th>\n",
              "    </tr>\n",
              "  </thead>\n",
              "  <tbody>\n",
              "  </tbody>\n",
              "</table>\n",
              "</div>"
            ],
            "text/plain": [
              "Empty DataFrame\n",
              "Columns: [Название признака, Важность признака]\n",
              "Index: []"
            ]
          },
          "execution_count": 37,
          "metadata": {
            "tags": []
          },
          "output_type": "execute_result"
        }
      ],
      "source": [
        "feature_importance.sort_values(by='Важность признака', ascending=False)"
      ]
    },
    {
      "cell_type": "markdown",
      "metadata": {
        "id": "y1W41te9H0CG"
      },
      "source": [
        "## Задание 3.8. \n",
        "\n",
        "Напомню исходную постановку задачи. Мы говорили о том, что оценка цены на недвижимость может быть нужна для выявления аномально низких цен на объект недвижимости. Давайте попробуем найти такие в датасете."
      ]
    }
  ],
  "metadata": {
    "colab": {
      "collapsed_sections": [],
      "include_colab_link": true,
      "name": "Linear Regression lab 3.5-3.8",
      "provenance": [],
      "toc_visible": true
    },
    "kernelspec": {
      "display_name": "Python 3.9.5 64-bit",
      "metadata": {
        "interpreter": {
          "hash": "aee8b7b246df8f9039afb4144a1f6fd8d2ca17a180786b69acc140d282b71a49"
        }
      },
      "name": "python3"
    },
    "language_info": {
      "codemirror_mode": {
        "name": "ipython",
        "version": 3
      },
      "file_extension": ".py",
      "mimetype": "text/x-python",
      "name": "python",
      "nbconvert_exporter": "python",
      "pygments_lexer": "ipython3",
      "version": "3.9.5"
    },
    "toc": {
      "base_numbering": 1,
      "nav_menu": {},
      "number_sections": true,
      "sideBar": true,
      "skip_h1_title": false,
      "title_cell": "Table of Contents",
      "title_sidebar": "Contents",
      "toc_cell": false,
      "toc_position": {},
      "toc_section_display": true,
      "toc_window_display": false
    }
  },
  "nbformat": 4,
  "nbformat_minor": 0
}